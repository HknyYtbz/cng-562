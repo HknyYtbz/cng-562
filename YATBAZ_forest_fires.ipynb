{
  "nbformat": 4,
  "nbformat_minor": 0,
  "metadata": {
    "colab": {
      "name": "YATBAZ_forest_fires.ipynb",
      "version": "0.3.2",
      "provenance": [],
      "collapsed_sections": [],
      "toc_visible": true,
      "include_colab_link": true
    },
    "kernelspec": {
      "name": "python3",
      "display_name": "Python 3"
    }
  },
  "cells": [
    {
      "cell_type": "markdown",
      "metadata": {
        "id": "view-in-github",
        "colab_type": "text"
      },
      "source": [
        "<a href=\"https://colab.research.google.com/github/HknyYtbz/cng-562/blob/master/YATBAZ_forest_fires.ipynb\" target=\"_parent\"><img src=\"https://colab.research.google.com/assets/colab-badge.svg\" alt=\"Open In Colab\"/></a>"
      ]
    },
    {
      "metadata": {
        "id": "Wo8-E5HVKAj0",
        "colab_type": "text"
      },
      "cell_type": "markdown",
      "source": [
        "#Data Loading"
      ]
    },
    {
      "metadata": {
        "id": "cSFLzBOFeo1-",
        "colab_type": "code",
        "colab": {}
      },
      "cell_type": "code",
      "source": [
        "#Essential imports for the project\n",
        "import numpy as np\n",
        "import pandas as pd"
      ],
      "execution_count": 0,
      "outputs": []
    },
    {
      "metadata": {
        "id": "jGbAuIwAEp0C",
        "colab_type": "text"
      },
      "cell_type": "markdown",
      "source": [
        "Please upload your Kaggle API JSON named as kaggle.json to download the data\n"
      ]
    },
    {
      "metadata": {
        "id": "1Oj5cNha8plC",
        "colab_type": "code",
        "outputId": "bf983a99-ad67-429e-fdbb-1516f50d6c23",
        "colab": {
          "resources": {
            "http://localhost:8080/nbextensions/google.colab/files.js": {
              "data": "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",
              "ok": true,
              "headers": [
                [
                  "content-type",
                  "application/javascript"
                ]
              ],
              "status": 200,
              "status_text": ""
            }
          },
          "base_uri": "https://localhost:8080/",
          "height": 142
        }
      },
      "cell_type": "code",
      "source": [
        "from google.colab import files\n",
        "#Kaggle api key upload\n",
        "files.upload()\n",
        "#Essential downloads for the project, especially the kaggle dataset download\n",
        "!pip install -U -q kaggle\n",
        "!mkdir -p ~/.kaggle\n",
        "!cp kaggle.json ~/.kaggle/\n",
        "!chmod 600 /root/.kaggle/kaggle.json \n",
        "!kaggle datasets download -d elikplim/forest-fires-data-set\n",
        "!ls"
      ],
      "execution_count": 0,
      "outputs": [
        {
          "output_type": "display_data",
          "data": {
            "text/html": [
              "\n",
              "     <input type=\"file\" id=\"files-aaee7341-8556-46ad-9ab8-ef72b8a6b179\" name=\"files[]\" multiple disabled />\n",
              "     <output id=\"result-aaee7341-8556-46ad-9ab8-ef72b8a6b179\">\n",
              "      Upload widget is only available when the cell has been executed in the\n",
              "      current browser session. Please rerun this cell to enable.\n",
              "      </output>\n",
              "      <script src=\"/nbextensions/google.colab/files.js\"></script> "
            ],
            "text/plain": [
              "<IPython.core.display.HTML object>"
            ]
          },
          "metadata": {
            "tags": []
          }
        },
        {
          "output_type": "stream",
          "text": [
            "Saving kaggle.json to kaggle.json\n",
            "Downloading forest-fires-data-set.zip to /content\n",
            "  0% 0.00/7.10k [00:00<?, ?B/s]\n",
            "100% 7.10k/7.10k [00:00<00:00, 6.75MB/s]\n",
            "forest-fires-data-set.zip  kaggle.json\tsample_data\n"
          ],
          "name": "stdout"
        }
      ]
    },
    {
      "metadata": {
        "id": "plyW8MCNKH1a",
        "colab_type": "text"
      },
      "cell_type": "markdown",
      "source": [
        "#"
      ]
    },
    {
      "metadata": {
        "id": "OHu_Er6xKKPT",
        "colab_type": "text"
      },
      "cell_type": "markdown",
      "source": [
        "# Helper Functions"
      ]
    },
    {
      "metadata": {
        "id": "-tKGJY7HEyQB",
        "colab_type": "text"
      },
      "cell_type": "markdown",
      "source": [
        "I have 4 helper function that I wrote in my first iteration.\n",
        "\n",
        "1.   **categorical_to_dumy**: It has the same effect as the pandas get dummies function except removing one of the columns to avoid dummy trap. I updated my implementation with get dummies yet left this function to improve for my needs later on\n",
        "\n",
        "2.   **categorical_to_numeric**: I puts values to categorical variables between 0 - number of unique elements to make them numerrical\n",
        "\n",
        "3. **mapping**: This function is written to apply categorical to numberic function at one run to the dataset with apply function\n",
        "\n",
        "4. **makeInt**: This is a mapping function from Boolean to Integer, again it is implemented to be used with apply function to the DataFrame\n",
        "\n"
      ]
    },
    {
      "metadata": {
        "id": "egQ5VeThs0AC",
        "colab_type": "code",
        "colab": {}
      },
      "cell_type": "code",
      "source": [
        "mapping_table = None\n",
        "#Helper Functions for Preprocessing and Analysis (Not all used)\n",
        "def makeInt(x):\n",
        "  return 1 if x==True else 0\n",
        "def categorical_to_dumy(st,df):\n",
        "  for elem in df[st].unique():\n",
        "    df[str(elem)] = df[st] == elem\n",
        "    df[str(elem)] = df[str(elem)].apply(makeInt)\n",
        "  df = df.drop(st, axis=1)\n",
        "  return df\n",
        "\n",
        "def mapping(x):\n",
        "  global mapping_table\n",
        "  return mapping_table[x]\n",
        "  \n",
        "def categorical_to_numeric(st,df): #quite inefficient way\n",
        "  global mapping_table\n",
        "  mapping_table = dict(zip(df[st].unique(), range(1,len(df[st].unique())+1)))\n",
        "  return df[st].apply(mapping)\n",
        "#df = pd.get_dummies(df, columns=['workclass', 'education', 'marital.status', 'occupation', 'relationship', 'race', 'sex', 'native.country', 'income'], drop_first=True)\n",
        "\n",
        "    "
      ],
      "execution_count": 0,
      "outputs": []
    },
    {
      "metadata": {
        "id": "fFieDt4MKSX1",
        "colab_type": "text"
      },
      "cell_type": "markdown",
      "source": [
        "# Preprocessing"
      ]
    },
    {
      "metadata": {
        "id": "tuA3o9ZgBXR4",
        "colab_type": "code",
        "outputId": "69681601-a06c-41d3-c158-a5c2e3eaac8a",
        "colab": {
          "base_uri": "https://localhost:8080/",
          "height": 34
        }
      },
      "cell_type": "code",
      "source": [
        "df = pd.read_csv('/content/forest-fires-data-set.zip', compression='zip', header=0, sep=',', quotechar='\"')\n",
        "df_v2 = df\n",
        "df[\"area\"].max()"
      ],
      "execution_count": 0,
      "outputs": [
        {
          "output_type": "execute_result",
          "data": {
            "text/plain": [
              "1090.84"
            ]
          },
          "metadata": {
            "tags": []
          },
          "execution_count": 8
        }
      ]
    },
    {
      "metadata": {
        "id": "p8oiMdC6F_0l",
        "colab_type": "text"
      },
      "cell_type": "markdown",
      "source": [
        "As a preprocessing, I first checked some properties to understand the data better. The flow is as follows:\n",
        "\n",
        "1.   Get general information about each variable, their min, max, mean values etc.\n",
        "2.   Get the percentage of NA values for each column to decide on a strategy for handling missing data. In this dataset, there were no NA values. However, the code given is  handling the  both continous variables and discerete variables  by putting mean (if continous) and mode (if discrete) value to the NA values.\n",
        "3. After handling missing data, the continous variables are normalized with a minmax scaler to make them between zero and one, so that it will be more accurate to use them in the models.\n",
        "4. Lastly, the categorical variables are converted into numeric values between 0 to number of unique elements in that variable. Pandas get_dummies dunction could be used as well to have a better representation of the data for machine learning models\n",
        "\n",
        "\n"
      ]
    },
    {
      "metadata": {
        "id": "wxicb4QGBzpE",
        "colab_type": "code",
        "outputId": "e79d2d78-a486-4f23-dcc3-9464b6cbcca7",
        "colab": {
          "base_uri": "https://localhost:8080/",
          "height": 373
        }
      },
      "cell_type": "code",
      "source": [
        "dimension = df.shape\n",
        "\"\"\"\n",
        "#Column Information Retrieval\n",
        "for j in range(dimension[1]):\n",
        "  print(df[df.columns[j]].describe())\n",
        "  print(\"--------------------\")\n",
        "#NA Value Information Retrieval\n",
        "print(\"----Number of NA's-------\")\n",
        "for j in range(dimension[1]):\n",
        "     #print(df.columns[j],df.iloc[:,j].isnull().values.ravel().sum())\n",
        "     print(\"%s:%.2f%%\"%(df.columns[j],(df.iloc[:,j].isnull().values.ravel().sum()/len(df.iloc[:,j].values)*100.0)))\n",
        "\"\"\"\n",
        "#Missing value handling and check\n",
        "for j in df.columns:\n",
        "  if df[j].dtype.name=='object':\n",
        "    df[j].fillna(df[j].mode()[0],inplace=True)\n",
        "  else:\n",
        "    df[j].fillna(df[j].mean(),inplace=True)\n",
        "\n",
        "\n",
        "print(\"----Number of NA's-------\")\n",
        "for j in range(dimension[1]):\n",
        "     #print(df.columns[j],df.iloc[:,j].isnull().values.ravel().sum())\n",
        "     print(\"%s:%.2f%%\"%(df.columns[j],(df.iloc[:,j].isnull().values.ravel().sum()/len(df.iloc[:,j].values)*100.0)))\n",
        "\n",
        "from sklearn.preprocessing import minmax_scale\n",
        "for i in df.columns:\n",
        "  if df[i].dtype.name != 'object':\n",
        "    # Fit your data on the scaler object\n",
        "    if(i != \"area\"):\n",
        "      df[i] = pd.DataFrame(minmax_scale(df[i]))\n",
        "#Convert categorical values to numeric\n",
        "\"\"\"\n",
        "#My code for dummies I used pandas version\n",
        "for i in df.columns:\n",
        "  if df[i].dtype.name == 'object':\n",
        "    if i != \"income\":\n",
        "      df = categorical_to_dumy(i,df)\n",
        "    else:\n",
        "      df[i] = categorical_to_numeric(i,df)\n",
        "df.head()\n",
        "\"\"\"\n",
        "for i in df.columns:\n",
        "  if df[i].dtype.name == 'object':\n",
        "    df[i] = categorical_to_numeric(i,df)\n",
        "  "
      ],
      "execution_count": 0,
      "outputs": [
        {
          "output_type": "stream",
          "text": [
            "----Number of NA's-------\n",
            "X:0.00%\n",
            "Y:0.00%\n",
            "month:0.00%\n",
            "day:0.00%\n",
            "FFMC:0.00%\n",
            "DMC:0.00%\n",
            "DC:0.00%\n",
            "ISI:0.00%\n",
            "temp:0.00%\n",
            "RH:0.00%\n",
            "wind:0.00%\n",
            "rain:0.00%\n",
            "area:0.00%\n"
          ],
          "name": "stdout"
        },
        {
          "output_type": "stream",
          "text": [
            "/usr/local/lib/python3.6/dist-packages/sklearn/utils/validation.py:595: DataConversionWarning: Data with input dtype int64 was converted to float64.\n",
            "  warnings.warn(msg, DataConversionWarning)\n",
            "/usr/local/lib/python3.6/dist-packages/sklearn/utils/validation.py:595: DataConversionWarning: Data with input dtype int64 was converted to float64.\n",
            "  warnings.warn(msg, DataConversionWarning)\n",
            "/usr/local/lib/python3.6/dist-packages/sklearn/utils/validation.py:595: DataConversionWarning: Data with input dtype int64 was converted to float64.\n",
            "  warnings.warn(msg, DataConversionWarning)\n"
          ],
          "name": "stderr"
        }
      ]
    },
    {
      "metadata": {
        "id": "HS7xGvFQIBbl",
        "colab_type": "text"
      },
      "cell_type": "markdown",
      "source": [
        "After completing the preprocessing state, I seperated my independent and dependet variable(s) x and y and to have a understanding about the area variable I described and plot area column."
      ]
    },
    {
      "metadata": {
        "id": "q3IUUIG5wHin",
        "colab_type": "code",
        "outputId": "ab06ff51-152f-4c28-e82c-7fd379c483c7",
        "colab": {
          "base_uri": "https://localhost:8080/",
          "height": 521
        }
      },
      "cell_type": "code",
      "source": [
        "#df[df[\"area\"]>0] =1\n",
        "y = df[\"area\"]\n",
        "x = df.drop(\"area\", axis=1)\n",
        "print(y.describe())\n",
        "y.hist()\n",
        "y.head()"
      ],
      "execution_count": 0,
      "outputs": [
        {
          "output_type": "stream",
          "text": [
            "count     517.000000\n",
            "mean       12.847292\n",
            "std        63.655818\n",
            "min         0.000000\n",
            "25%         0.000000\n",
            "50%         0.520000\n",
            "75%         6.570000\n",
            "max      1090.840000\n",
            "Name: area, dtype: float64\n"
          ],
          "name": "stdout"
        },
        {
          "output_type": "execute_result",
          "data": {
            "text/plain": [
              "0    0.0\n",
              "1    0.0\n",
              "2    0.0\n",
              "3    0.0\n",
              "4    0.0\n",
              "Name: area, dtype: float64"
            ]
          },
          "metadata": {
            "tags": []
          },
          "execution_count": 10
        },
        {
          "output_type": "display_data",
          "data": {
            "image/png": "[encoded data removed]",
            "text/plain": [
              "<Figure size 432x288 with 1 Axes>"
            ]
          },
          "metadata": {
            "tags": []
          }
        }
      ]
    },
    {
      "metadata": {
        "id": "DYZXav4uIg_u",
        "colab_type": "text"
      },
      "cell_type": "markdown",
      "source": [
        " hen, I have converted the dependent variable by assuming that zero value in the area column means \"No Fire\" and non-zero value means \"Fire\". "
      ]
    },
    {
      "metadata": {
        "id": "aw40YgSw2Dwq",
        "colab_type": "code",
        "colab": {}
      },
      "cell_type": "code",
      "source": [
        "#I have labeled the rows with fire and no-fire\n",
        "updated_y = np.asarray([1 if y.iloc[i] > 0  else 0 for i in range(y.shape[0])])\n",
        "#updated_y = y\n",
        "#print(len(updated_y))\n",
        "#print(y.shape)"
      ],
      "execution_count": 0,
      "outputs": []
    },
    {
      "metadata": {
        "id": "GAaoLNE0txGk",
        "colab_type": "text"
      },
      "cell_type": "markdown",
      "source": [
        "# Model Selection"
      ]
    },
    {
      "metadata": {
        "id": "lvARSchBI7_b",
        "colab_type": "text"
      },
      "cell_type": "markdown",
      "source": [
        "After making sure that data is ready, I implemented different models with grid search first and used the best parameters to see their accuracy score. the accuracy metric could have been selected differently. In my initial implementation, I have also used F1 score."
      ]
    },
    {
      "metadata": {
        "id": "peQ_Ov3gFD2U",
        "colab_type": "text"
      },
      "cell_type": "markdown",
      "source": [
        "## KNN"
      ]
    },
    {
      "metadata": {
        "id": "t5hNCtCr54UE",
        "colab_type": "code",
        "outputId": "8fa1661d-512a-493a-8102-d6e8c4eae179",
        "colab": {
          "base_uri": "https://localhost:8080/",
          "height": 205
        }
      },
      "cell_type": "code",
      "source": [
        "from sklearn.neighbors import KNeighborsClassifier\n",
        "from sklearn.model_selection import GridSearchCV\n",
        "from sklearn.model_selection import train_test_split\n",
        "x_train, x_test, y_train, y_test = train_test_split(x, updated_y, test_size=0.2, random_state=1)\n",
        "param_grid = {'n_neighbors': list(range(1,28)) }#list(range(10,35))}\n",
        "#Initial Try with desicion trees\n",
        "classifier = KNeighborsClassifier()\n",
        "\n",
        "gd_sr = GridSearchCV(estimator=classifier,  \n",
        "                     param_grid=param_grid,\n",
        "                     scoring='accuracy',\n",
        "                     cv=10)\n",
        "gd_sr.fit(x_train, y_train)"
      ],
      "execution_count": 0,
      "outputs": [
        {
          "output_type": "stream",
          "text": [
            "/usr/local/lib/python3.6/dist-packages/sklearn/model_selection/_search.py:841: DeprecationWarning: The default of the `iid` parameter will change from True to False in version 0.22 and will be removed in 0.24. This will change numeric results when test-set sizes are unequal.\n",
            "  DeprecationWarning)\n"
          ],
          "name": "stderr"
        },
        {
          "output_type": "execute_result",
          "data": {
            "text/plain": [
              "GridSearchCV(cv=10, error_score='raise-deprecating',\n",
              "       estimator=KNeighborsClassifier(algorithm='auto', leaf_size=30, metric='minkowski',\n",
              "           metric_params=None, n_jobs=None, n_neighbors=5, p=2,\n",
              "           weights='uniform'),\n",
              "       fit_params=None, iid='warn', n_jobs=None,\n",
              "       param_grid={'n_neighbors': [1, 2, 3, 4, 5, 6, 7, 8, 9, 10, 11, 12, 13, 14, 15, 16, 17, 18, 19, 20, 21, 22, 23, 24, 25, 26, 27]},\n",
              "       pre_dispatch='2*n_jobs', refit=True, return_train_score='warn',\n",
              "       scoring='accuracy', verbose=0)"
            ]
          },
          "metadata": {
            "tags": []
          },
          "execution_count": 12
        }
      ]
    },
    {
      "metadata": {
        "id": "KOvj2Vnu57-s",
        "colab_type": "code",
        "outputId": "6edc1249-e7a8-481f-a39e-a4146905771f",
        "colab": {
          "base_uri": "https://localhost:8080/",
          "height": 34
        }
      },
      "cell_type": "code",
      "source": [
        "print(\"Neighbors: %d\\tScore: %.2f\"%(gd_sr.best_params_['n_neighbors'],gd_sr.best_score_))"
      ],
      "execution_count": 0,
      "outputs": [
        {
          "output_type": "stream",
          "text": [
            "Neighbors: 1\tScore: 0.59\n"
          ],
          "name": "stdout"
        }
      ]
    },
    {
      "metadata": {
        "id": "BjKdu_JLSKHx",
        "colab_type": "code",
        "outputId": "e9976192-8176-4f81-b005-a204760bf1ed",
        "colab": {
          "base_uri": "https://localhost:8080/",
          "height": 34
        }
      },
      "cell_type": "code",
      "source": [
        "from sklearn.neighbors import KNeighborsClassifier\n",
        "from sklearn.metrics import accuracy_score\n",
        "from sklearn.metrics import confusion_matrix\n",
        "classifier = KNeighborsClassifier(n_neighbors=1)\n",
        "classifier.fit(x_train, y_train)  \n",
        "y_pred = classifier.predict(x_test)\n",
        "#print(confusion_matrix(y_test, y_pred, labels=[0, 1]))\n",
        "print(\"Accuracy Score: %.3f\"%accuracy_score(y_test,y_pred))"
      ],
      "execution_count": 0,
      "outputs": [
        {
          "output_type": "stream",
          "text": [
            "Accuracy Score: 0.471\n"
          ],
          "name": "stdout"
        }
      ]
    },
    {
      "metadata": {
        "id": "iVzLnTiyFILU",
        "colab_type": "text"
      },
      "cell_type": "markdown",
      "source": [
        "## SVM"
      ]
    },
    {
      "metadata": {
        "id": "-cPJy-rE5_5K",
        "colab_type": "code",
        "outputId": "d4294e0f-34e1-410a-ac2e-f6ccd2805545",
        "colab": {
          "base_uri": "https://localhost:8080/",
          "height": 222
        }
      },
      "cell_type": "code",
      "source": [
        "from sklearn.model_selection import GridSearchCV\n",
        "from sklearn.model_selection import train_test_split \n",
        "from sklearn.svm import SVC  \n",
        "classifier = SVC()\n",
        "x_train, x_test, y_train, y_test = train_test_split(x, updated_y, test_size=0.2, random_state=1)\n",
        "param_grid = {'kernel':['linear', 'poly', 'rbf'],'C': [0.001, 0.01, 0.1, 1, 10], 'gamma' : [0.001, 0.01, 0.1, 1]}\n",
        "grid_search = GridSearchCV(classifier, param_grid, cv=10)\n",
        "grid_search.fit(x_train, y_train) "
      ],
      "execution_count": 0,
      "outputs": [
        {
          "output_type": "stream",
          "text": [
            "/usr/local/lib/python3.6/dist-packages/sklearn/model_selection/_search.py:841: DeprecationWarning: The default of the `iid` parameter will change from True to False in version 0.22 and will be removed in 0.24. This will change numeric results when test-set sizes are unequal.\n",
            "  DeprecationWarning)\n"
          ],
          "name": "stderr"
        },
        {
          "output_type": "execute_result",
          "data": {
            "text/plain": [
              "GridSearchCV(cv=10, error_score='raise-deprecating',\n",
              "       estimator=SVC(C=1.0, cache_size=200, class_weight=None, coef0=0.0,\n",
              "  decision_function_shape='ovr', degree=3, gamma='auto_deprecated',\n",
              "  kernel='rbf', max_iter=-1, probability=False, random_state=None,\n",
              "  shrinking=True, tol=0.001, verbose=False),\n",
              "       fit_params=None, iid='warn', n_jobs=None,\n",
              "       param_grid={'kernel': ['linear', 'poly', 'rbf'], 'C': [0.001, 0.01, 0.1, 1, 10], 'gamma': [0.001, 0.01, 0.1, 1]},\n",
              "       pre_dispatch='2*n_jobs', refit=True, return_train_score='warn',\n",
              "       scoring=None, verbose=0)"
            ]
          },
          "metadata": {
            "tags": []
          },
          "execution_count": 15
        }
      ]
    },
    {
      "metadata": {
        "id": "BUEmXlxbEcte",
        "colab_type": "code",
        "outputId": "350b5cb0-3499-4ecc-9263-0d256fdbc840",
        "colab": {
          "base_uri": "https://localhost:8080/",
          "height": 34
        }
      },
      "cell_type": "code",
      "source": [
        "print(\"Parameters: %s\\t Best Score: %.2f\"%(grid_search.best_params_,grid_search.best_score_))"
      ],
      "execution_count": 0,
      "outputs": [
        {
          "output_type": "stream",
          "text": [
            "Parameters: {'C': 10, 'gamma': 0.001, 'kernel': 'linear'}\t Best Score: 0.57\n"
          ],
          "name": "stdout"
        }
      ]
    },
    {
      "metadata": {
        "id": "m8FBWbugOe7c",
        "colab_type": "code",
        "outputId": "61dbe1b3-0ca9-4bc1-df00-2a546e98c576",
        "colab": {
          "base_uri": "https://localhost:8080/",
          "height": 34
        }
      },
      "cell_type": "code",
      "source": [
        "from sklearn.svm import SVC  \n",
        "from sklearn.metrics import accuracy_score\n",
        "classifier = SVC(C= 0.001, gamma= 1, kernel= 'poly')\n",
        "classifier.fit(x_train, y_train)  \n",
        "y_pred = classifier.predict(x_test)\n",
        "print(\"Accuracy Score: %.3f\"%accuracy_score(y_test,y_pred))"
      ],
      "execution_count": 0,
      "outputs": [
        {
          "output_type": "stream",
          "text": [
            "Accuracy Score: 1.000\n"
          ],
          "name": "stdout"
        }
      ]
    },
    {
      "metadata": {
        "id": "aFXuagFVFytA",
        "colab_type": "text"
      },
      "cell_type": "markdown",
      "source": [
        "## Logistic Regression\n"
      ]
    },
    {
      "metadata": {
        "id": "8ZJD9AP8O3XZ",
        "colab_type": "text"
      },
      "cell_type": "markdown",
      "source": [
        "**I made solver 'liblinear' because it is default and when I omit that, it gives many warnings in the output**"
      ]
    },
    {
      "metadata": {
        "id": "L7-aSltYFyEI",
        "colab_type": "code",
        "outputId": "366376e5-7351-4221-c767-c918a9e88cc3",
        "colab": {
          "base_uri": "https://localhost:8080/",
          "height": 168
        }
      },
      "cell_type": "code",
      "source": [
        "from sklearn.linear_model import LogisticRegression\n",
        "from sklearn.model_selection import GridSearchCV\n",
        "from sklearn.model_selection import train_test_split\n",
        "x_train, x_test, y_train, y_test = train_test_split(x, updated_y, test_size=0.2, random_state=1)\n",
        "classifier = LogisticRegression(solver='liblinear')\n",
        "param_grid ={\"C\":np.logspace(-3,3,7), \"penalty\":[\"l1\",\"l2\"]}# l1 lasso l2 ridge\n",
        "grid_search = GridSearchCV(classifier, param_grid, cv=10)\n",
        "grid_search.fit(x_train, y_train)\n"
      ],
      "execution_count": 0,
      "outputs": [
        {
          "output_type": "execute_result",
          "data": {
            "text/plain": [
              "GridSearchCV(cv=10, error_score='raise-deprecating',\n",
              "       estimator=LogisticRegression(C=1.0, class_weight=None, dual=False, fit_intercept=True,\n",
              "          intercept_scaling=1, max_iter=100, multi_class='warn',\n",
              "          n_jobs=None, penalty='l2', random_state=None, solver='liblinear',\n",
              "          tol=0.0001, verbose=0, warm_start=False),\n",
              "       fit_params=None, iid='warn', n_jobs=None,\n",
              "       param_grid={'C': array([1.e-03, 1.e-02, 1.e-01, 1.e+00, 1.e+01, 1.e+02, 1.e+03]), 'penalty': ['l1', 'l2']},\n",
              "       pre_dispatch='2*n_jobs', refit=True, return_train_score='warn',\n",
              "       scoring=None, verbose=0)"
            ]
          },
          "metadata": {
            "tags": []
          },
          "execution_count": 23
        }
      ]
    },
    {
      "metadata": {
        "id": "AOuCU-u8HLZ-",
        "colab_type": "code",
        "outputId": "ee2a3a52-4eb2-4cee-a89d-cd2a9a077841",
        "colab": {
          "base_uri": "https://localhost:8080/",
          "height": 34
        }
      },
      "cell_type": "code",
      "source": [
        "print(\"Parameters: %s\\t Best Score: %.2f\"%(grid_search.best_params_,grid_search.best_score_))"
      ],
      "execution_count": 0,
      "outputs": [
        {
          "output_type": "stream",
          "text": [
            "Parameters: {'C': 0.001, 'penalty': 'l2'}\t Best Score: 1.00\n"
          ],
          "name": "stdout"
        }
      ]
    },
    {
      "metadata": {
        "id": "5A-i10_gRYiI",
        "colab_type": "code",
        "outputId": "3451123b-15ab-4898-a290-1014e0b15668",
        "colab": {
          "base_uri": "https://localhost:8080/",
          "height": 34
        }
      },
      "cell_type": "code",
      "source": [
        "from sklearn.metrics import accuracy_score\n",
        "from sklearn.linear_model import LogisticRegression\n",
        "classifier = LogisticRegression(solver='liblinear',C=0.001,penalty='l2')\n",
        "classifier.fit(x_train, y_train)  \n",
        "y_pred = classifier.predict(x_test)\n",
        "print(\"Accuracy Score: %.3f\"%accuracy_score(y_test,y_pred))"
      ],
      "execution_count": 0,
      "outputs": [
        {
          "output_type": "stream",
          "text": [
            "Accuracy Score: 1.000\n"
          ],
          "name": "stdout"
        }
      ]
    },
    {
      "metadata": {
        "id": "nqNbJDeRKykR",
        "colab_type": "text"
      },
      "cell_type": "markdown",
      "source": [
        "## Decision Tree"
      ]
    },
    {
      "metadata": {
        "id": "dXeyb9f8NuZI",
        "colab_type": "code",
        "colab": {}
      },
      "cell_type": "code",
      "source": [
        "depths = np.arange(1, 21)\n",
        "num_leafs = [1, 5, 10, 20, 50, 100]\n",
        "param_grid =  [{'max_depth':depths,\n",
        "              'min_samples_leaf':num_leafs}]"
      ],
      "execution_count": 0,
      "outputs": []
    },
    {
      "metadata": {
        "id": "bAatGKCUK2Ii",
        "colab_type": "code",
        "outputId": "9adb520f-fef3-49b5-fd39-2747b8b5fc01",
        "colab": {
          "base_uri": "https://localhost:8080/",
          "height": 87
        }
      },
      "cell_type": "code",
      "source": [
        "from sklearn.model_selection import GridSearchCV  \n",
        "from sklearn.tree import DecisionTreeClassifier\n",
        "from sklearn.model_selection import train_test_split\n",
        "x_train, x_test, y_train, y_test = train_test_split(x, updated_y, test_size=0.2, random_state=1)\n",
        "classifier=DecisionTreeClassifier()\n",
        "grid_search=GridSearchCV(classifier,param_grid,cv=10)\n",
        "grid_search.fit(x_train,y_train)\n",
        "grid_search.best_params_"
      ],
      "execution_count": 0,
      "outputs": [
        {
          "output_type": "stream",
          "text": [
            "/usr/local/lib/python3.6/dist-packages/sklearn/model_selection/_search.py:841: DeprecationWarning: The default of the `iid` parameter will change from True to False in version 0.22 and will be removed in 0.24. This will change numeric results when test-set sizes are unequal.\n",
            "  DeprecationWarning)\n"
          ],
          "name": "stderr"
        },
        {
          "output_type": "execute_result",
          "data": {
            "text/plain": [
              "{'max_depth': 3, 'min_samples_leaf': 5}"
            ]
          },
          "metadata": {
            "tags": []
          },
          "execution_count": 19
        }
      ]
    },
    {
      "metadata": {
        "id": "qjIuchRiN9tu",
        "colab_type": "code",
        "outputId": "7a3a2d39-76f4-47df-e382-fb1526c42e1d",
        "colab": {
          "base_uri": "https://localhost:8080/",
          "height": 34
        }
      },
      "cell_type": "code",
      "source": [
        "print(\"The best parameters %s with best score %.5f\"%(grid_search.best_params_,grid_search.best_score_))"
      ],
      "execution_count": 0,
      "outputs": [
        {
          "output_type": "stream",
          "text": [
            "The best parameters {'max_depth': 3, 'min_samples_leaf': 5} with best score 0.60533\n"
          ],
          "name": "stdout"
        }
      ]
    },
    {
      "metadata": {
        "id": "p0OzzN3cQu1i",
        "colab_type": "code",
        "outputId": "0d019273-a024-4916-9583-4af0c82d0855",
        "colab": {
          "base_uri": "https://localhost:8080/",
          "height": 34
        }
      },
      "cell_type": "code",
      "source": [
        "from sklearn.tree import DecisionTreeClassifier\n",
        "from sklearn.metrics import classification_report\n",
        "from sklearn.metrics import accuracy_score\n",
        "classifier=DecisionTreeClassifier(max_depth= 3, min_samples_leaf= 5)\n",
        "classifier.fit(x_train, y_train)  \n",
        "y_pred = classifier.predict(x_test)\n",
        "print(\"Accuracy Score: %.3f\"%accuracy_score(y_test,y_pred))"
      ],
      "execution_count": 0,
      "outputs": [
        {
          "output_type": "stream",
          "text": [
            "Accuracy Score: 0.538\n"
          ],
          "name": "stdout"
        }
      ]
    },
    {
      "metadata": {
        "id": "_NFIA5G-Suj7",
        "colab_type": "text"
      },
      "cell_type": "markdown",
      "source": [
        "# Feature Selection"
      ]
    },
    {
      "metadata": {
        "id": "flzlFijtP0ew",
        "colab_type": "text"
      },
      "cell_type": "markdown",
      "source": [
        "I tried 3 different methods to eliminate features just to see their effect."
      ]
    },
    {
      "metadata": {
        "id": "SJMyjNnuhYGm",
        "colab_type": "text"
      },
      "cell_type": "markdown",
      "source": [
        "## Feature Importance"
      ]
    },
    {
      "metadata": {
        "id": "xNs-c0XeSxUn",
        "colab_type": "code",
        "outputId": "f5e539b2-f798-4599-b997-c4478aba4fe0",
        "colab": {
          "base_uri": "https://localhost:8080/",
          "height": 430
        }
      },
      "cell_type": "code",
      "source": [
        "from sklearn.ensemble import ExtraTreesClassifier\n",
        "import matplotlib.pyplot as plt\n",
        "model = ExtraTreesClassifier()\n",
        "model.fit(x, updated_y)\n",
        "values = model.feature_importances_\n",
        "#print(x.shape)\n",
        "\n",
        "# horizontal bar plot of feature importance\n",
        "pos = np.arange(12) + 0.5\n",
        "plt.barh(pos, values, align='center')\n",
        "plt.title(\"Feature Importance\")\n",
        "plt.xlabel(\"Model Accuracy\")\n",
        "plt.ylabel(\"Features\")\n",
        "plt.yticks(pos, x.columns)\n",
        "plt.grid(True)"
      ],
      "execution_count": 0,
      "outputs": [
        {
          "output_type": "stream",
          "text": [
            "/usr/local/lib/python3.6/dist-packages/sklearn/ensemble/forest.py:246: FutureWarning: The default value of n_estimators will change from 10 in version 0.20 to 100 in 0.22.\n",
            "  \"10 in version 0.20 to 100 in 0.22.\", FutureWarning)\n"
          ],
          "name": "stderr"
        },
        {
          "output_type": "display_data",
          "data": {
            "image/png": "[encoded data removed]",
            "text/plain": [
              "<Figure size 576x396 with 1 Axes>"
            ]
          },
          "metadata": {
            "tags": []
          }
        }
      ]
    },
    {
      "metadata": {
        "id": "z_WwfEhyJRTn",
        "colab_type": "text"
      },
      "cell_type": "markdown",
      "source": [
        "Selected the columns with higher importance values. "
      ]
    },
    {
      "metadata": {
        "id": "ZW20NEFmT5vu",
        "colab_type": "code",
        "colab": {}
      },
      "cell_type": "code",
      "source": [
        "x1 = x[[\"X\",\"temp\",\"wind\",\"RH\"]]"
      ],
      "execution_count": 0,
      "outputs": []
    },
    {
      "metadata": {
        "id": "5LQyqM8phYy-",
        "colab_type": "text"
      },
      "cell_type": "markdown",
      "source": [
        "## Recursive Feature Elimination"
      ]
    },
    {
      "metadata": {
        "id": "c7vdHOgohDmD",
        "colab_type": "code",
        "colab": {}
      },
      "cell_type": "code",
      "source": [
        "from sklearn.feature_selection import RFE\n",
        "from sklearn.linear_model import LogisticRegression\n",
        "model = LogisticRegression(solver='lbfgs')\n",
        "rfe = RFE(model, 4)\n",
        "fit = rfe.fit(x, updated_y)\n",
        "selected = [x.columns[i]  for i in range(len(fit.support_)) if fit.support_[i]]\n",
        "x2= x[selected]"
      ],
      "execution_count": 0,
      "outputs": []
    },
    {
      "metadata": {
        "id": "wrM0uq4ahaH1",
        "colab_type": "text"
      },
      "cell_type": "markdown",
      "source": [
        "## Principal Component Analysis"
      ]
    },
    {
      "metadata": {
        "id": "vEnn3w33hN4C",
        "colab_type": "code",
        "colab": {}
      },
      "cell_type": "code",
      "source": [
        "from sklearn.decomposition import PCA\n",
        "pca = PCA(n_components=4)\n",
        "principalComponents = pca.fit_transform(x)\n",
        "x3 = pd.DataFrame(data = principalComponents)"
      ],
      "execution_count": 0,
      "outputs": []
    },
    {
      "metadata": {
        "id": "4n0VrHr3hbID",
        "colab_type": "text"
      },
      "cell_type": "markdown",
      "source": [
        "# Model Selection with New Features"
      ]
    },
    {
      "metadata": {
        "id": "B3-4bFl1QmgG",
        "colab_type": "text"
      },
      "cell_type": "markdown",
      "source": [
        "Again I used all the models that I used in the previous section, with the different independent variables."
      ]
    },
    {
      "metadata": {
        "id": "Zgbyl6LRuJ_V",
        "colab_type": "text"
      },
      "cell_type": "markdown",
      "source": [
        "## KNN"
      ]
    },
    {
      "metadata": {
        "id": "vIkAXuGX7Pkd",
        "colab_type": "text"
      },
      "cell_type": "markdown",
      "source": [
        "### X Version 1"
      ]
    },
    {
      "metadata": {
        "id": "En1j52vwUQp3",
        "colab_type": "code",
        "outputId": "a3f1c254-f478-4036-bbe4-1e717f9894ad",
        "colab": {
          "base_uri": "https://localhost:8080/",
          "height": 87
        }
      },
      "cell_type": "code",
      "source": [
        "from sklearn.neighbors import KNeighborsClassifier\n",
        "from sklearn.model_selection import GridSearchCV\n",
        "from sklearn.model_selection import train_test_split\n",
        "x_train, x_test, y_train, y_test = train_test_split(x1, updated_y, test_size=0.2, random_state=1)\n",
        "param_grid = {'n_neighbors': list(range(1,28)) }#list(range(10,35))}\n",
        "#Initial Try with desicion trees\n",
        "classifier = KNeighborsClassifier()\n",
        "grid_search = GridSearchCV(estimator=classifier,  \n",
        "                     param_grid=param_grid,\n",
        "                     scoring='accuracy',\n",
        "                     cv=10)\n",
        "grid_search.fit(x_train, y_train)\n",
        "print(\"Parameters: %s\\t Best Score: %.2f\"%(grid_search.best_params_,grid_search.best_score_))"
      ],
      "execution_count": 0,
      "outputs": [
        {
          "output_type": "stream",
          "text": [
            "Parameters: {'n_neighbors': 27}\t Best Score: 0.58\n"
          ],
          "name": "stdout"
        },
        {
          "output_type": "stream",
          "text": [
            "/usr/local/lib/python3.6/dist-packages/sklearn/model_selection/_search.py:841: DeprecationWarning: The default of the `iid` parameter will change from True to False in version 0.22 and will be removed in 0.24. This will change numeric results when test-set sizes are unequal.\n",
            "  DeprecationWarning)\n"
          ],
          "name": "stderr"
        }
      ]
    },
    {
      "metadata": {
        "id": "Idllehs1UikL",
        "colab_type": "code",
        "outputId": "e6290595-4ba4-4899-aeae-067086e71a80",
        "colab": {
          "base_uri": "https://localhost:8080/",
          "height": 34
        }
      },
      "cell_type": "code",
      "source": [
        "from sklearn.neighbors import KNeighborsClassifier\n",
        "from sklearn.metrics import accuracy_score\n",
        "classifier = KNeighborsClassifier(n_neighbors=27)\n",
        "classifier.fit(x_train, y_train)  \n",
        "y_pred = classifier.predict(x_test)\n",
        "print(\"Accuracy: %.3f\"%accuracy_score(y_test,y_pred))"
      ],
      "execution_count": 0,
      "outputs": [
        {
          "output_type": "stream",
          "text": [
            "Accuracy: 0.529\n"
          ],
          "name": "stdout"
        }
      ]
    },
    {
      "metadata": {
        "id": "XR1pjFaQ7ODI",
        "colab_type": "text"
      },
      "cell_type": "markdown",
      "source": [
        "### X Version 2"
      ]
    },
    {
      "metadata": {
        "id": "FE14pj_E7WlD",
        "colab_type": "code",
        "outputId": "3c8aee6c-5e21-4f88-b03a-c829dcb462d9",
        "colab": {
          "base_uri": "https://localhost:8080/",
          "height": 87
        }
      },
      "cell_type": "code",
      "source": [
        "from sklearn.neighbors import KNeighborsClassifier\n",
        "from sklearn.model_selection import GridSearchCV\n",
        "from sklearn.model_selection import train_test_split\n",
        "x_train, x_test, y_train, y_test = train_test_split(x2, updated_y, test_size=0.2, random_state=1)\n",
        "param_grid = {'n_neighbors': list(range(1,28)) }#list(range(10,35))}\n",
        "#Initial Try with desicion trees\n",
        "classifier = KNeighborsClassifier()\n",
        "grid_search = GridSearchCV(estimator=classifier,  \n",
        "                     param_grid=param_grid,\n",
        "                     scoring='accuracy',\n",
        "                     cv=10)\n",
        "grid_search.fit(x_train, y_train)\n",
        "print(\"Parameters: %s\\t Best Score: %.2f\"%(grid_search.best_params_,grid_search.best_score_))"
      ],
      "execution_count": 0,
      "outputs": [
        {
          "output_type": "stream",
          "text": [
            "Parameters: {'n_neighbors': 17}\t Best Score: 0.59\n"
          ],
          "name": "stdout"
        },
        {
          "output_type": "stream",
          "text": [
            "/usr/local/lib/python3.6/dist-packages/sklearn/model_selection/_search.py:841: DeprecationWarning: The default of the `iid` parameter will change from True to False in version 0.22 and will be removed in 0.24. This will change numeric results when test-set sizes are unequal.\n",
            "  DeprecationWarning)\n"
          ],
          "name": "stderr"
        }
      ]
    },
    {
      "metadata": {
        "id": "jvQXP9OA7aFa",
        "colab_type": "code",
        "outputId": "506e0e83-9784-417c-db4d-77f0adee547c",
        "colab": {
          "base_uri": "https://localhost:8080/",
          "height": 34
        }
      },
      "cell_type": "code",
      "source": [
        "from sklearn.neighbors import KNeighborsClassifier\n",
        "from sklearn.metrics import accuracy_score\n",
        "classifier = KNeighborsClassifier(n_neighbors=17)\n",
        "classifier.fit(x_train, y_train)  \n",
        "y_pred = classifier.predict(x_test)\n",
        "print(\"Accuracy: %.3f\"%accuracy_score(y_test,y_pred))"
      ],
      "execution_count": 0,
      "outputs": [
        {
          "output_type": "stream",
          "text": [
            "Accuracy: 0.471\n"
          ],
          "name": "stdout"
        }
      ]
    },
    {
      "metadata": {
        "id": "v3aeSAR_7kje",
        "colab_type": "text"
      },
      "cell_type": "markdown",
      "source": [
        "### X Version 3"
      ]
    },
    {
      "metadata": {
        "id": "zVoQq7Ev7mpz",
        "colab_type": "code",
        "outputId": "ca9b58a1-e821-43cf-bad4-912e06224ae4",
        "colab": {
          "base_uri": "https://localhost:8080/",
          "height": 87
        }
      },
      "cell_type": "code",
      "source": [
        "from sklearn.neighbors import KNeighborsClassifier\n",
        "from sklearn.model_selection import GridSearchCV\n",
        "from sklearn.model_selection import train_test_split\n",
        "x_train, x_test, y_train, y_test = train_test_split(x3, updated_y, test_size=0.2, random_state=1)\n",
        "param_grid = {'n_neighbors': list(range(1,28)) }#list(range(10,35))}\n",
        "#Initial Try with desicion trees\n",
        "classifier = KNeighborsClassifier()\n",
        "grid_search = GridSearchCV(estimator=classifier,  \n",
        "                     param_grid=param_grid,\n",
        "                     scoring='accuracy',\n",
        "                     cv=10)\n",
        "grid_search.fit(x_train, y_train)\n",
        "print(\"Parameters: %s\\t Best Score: %.2f\"%(grid_search.best_params_,grid_search.best_score_))"
      ],
      "execution_count": 0,
      "outputs": [
        {
          "output_type": "stream",
          "text": [
            "Parameters: {'n_neighbors': 1}\t Best Score: 0.58\n"
          ],
          "name": "stdout"
        },
        {
          "output_type": "stream",
          "text": [
            "/usr/local/lib/python3.6/dist-packages/sklearn/model_selection/_search.py:841: DeprecationWarning: The default of the `iid` parameter will change from True to False in version 0.22 and will be removed in 0.24. This will change numeric results when test-set sizes are unequal.\n",
            "  DeprecationWarning)\n"
          ],
          "name": "stderr"
        }
      ]
    },
    {
      "metadata": {
        "id": "2ekmtgEj7n9y",
        "colab_type": "code",
        "outputId": "a0ec8920-7306-4049-909f-6ef99cb583ea",
        "colab": {
          "base_uri": "https://localhost:8080/",
          "height": 34
        }
      },
      "cell_type": "code",
      "source": [
        "from sklearn.neighbors import KNeighborsClassifier\n",
        "from sklearn.metrics import accuracy_score\n",
        "classifier = KNeighborsClassifier(n_neighbors=1)\n",
        "classifier.fit(x_train, y_train)  \n",
        "y_pred = classifier.predict(x_test)\n",
        "print(\"Accuracy: %.3f\"%accuracy_score(y_test,y_pred))"
      ],
      "execution_count": 0,
      "outputs": [
        {
          "output_type": "stream",
          "text": [
            "Accuracy: 0.490\n"
          ],
          "name": "stdout"
        }
      ]
    },
    {
      "metadata": {
        "id": "rohBSx9z7_Tn",
        "colab_type": "text"
      },
      "cell_type": "markdown",
      "source": [
        "## SVM"
      ]
    },
    {
      "metadata": {
        "id": "IS82GMTF8r-o",
        "colab_type": "text"
      },
      "cell_type": "markdown",
      "source": [
        "### X Version 1"
      ]
    },
    {
      "metadata": {
        "id": "nr0xvKPJ8Ddk",
        "colab_type": "code",
        "outputId": "7fd58f9e-d2b1-4a8c-be98-cfc126054055",
        "colab": {
          "base_uri": "https://localhost:8080/",
          "height": 222
        }
      },
      "cell_type": "code",
      "source": [
        "from sklearn.model_selection import GridSearchCV\n",
        "from sklearn.model_selection import train_test_split \n",
        "from sklearn.svm import SVC  \n",
        "classifier = SVC()\n",
        "x_train, x_test, y_train, y_test = train_test_split(x1, updated_y, test_size=0.2, random_state=1)\n",
        "param_grid = {'kernel':['linear', 'poly', 'rbf'],'C': [0.001, 0.01, 0.1, 1, 10], 'gamma' : [0.001, 0.01, 0.1, 1]}\n",
        "grid_search = GridSearchCV(classifier, param_grid, cv=10)\n",
        "grid_search.fit(x_train, y_train) "
      ],
      "execution_count": 0,
      "outputs": [
        {
          "output_type": "stream",
          "text": [
            "/usr/local/lib/python3.6/dist-packages/sklearn/model_selection/_search.py:841: DeprecationWarning: The default of the `iid` parameter will change from True to False in version 0.22 and will be removed in 0.24. This will change numeric results when test-set sizes are unequal.\n",
            "  DeprecationWarning)\n"
          ],
          "name": "stderr"
        },
        {
          "output_type": "execute_result",
          "data": {
            "text/plain": [
              "GridSearchCV(cv=10, error_score='raise-deprecating',\n",
              "       estimator=SVC(C=1.0, cache_size=200, class_weight=None, coef0=0.0,\n",
              "  decision_function_shape='ovr', degree=3, gamma='auto_deprecated',\n",
              "  kernel='rbf', max_iter=-1, probability=False, random_state=None,\n",
              "  shrinking=True, tol=0.001, verbose=False),\n",
              "       fit_params=None, iid='warn', n_jobs=None,\n",
              "       param_grid={'kernel': ['linear', 'poly', 'rbf'], 'C': [0.001, 0.01, 0.1, 1, 10], 'gamma': [0.001, 0.01, 0.1, 1]},\n",
              "       pre_dispatch='2*n_jobs', refit=True, return_train_score='warn',\n",
              "       scoring=None, verbose=0)"
            ]
          },
          "metadata": {
            "tags": []
          },
          "execution_count": 48
        }
      ]
    },
    {
      "metadata": {
        "id": "QdOSuwAQ8c7I",
        "colab_type": "code",
        "outputId": "ae1e46e1-ff62-41fc-b32c-7d5792fc6ca4",
        "colab": {
          "base_uri": "https://localhost:8080/",
          "height": 34
        }
      },
      "cell_type": "code",
      "source": [
        "print(\"Parameters: %s\\t Best Score: %.2f\"%(grid_search.best_params_,grid_search.best_score_))"
      ],
      "execution_count": 0,
      "outputs": [
        {
          "output_type": "stream",
          "text": [
            "Parameters: {'C': 10, 'gamma': 0.001, 'kernel': 'linear'}\t Best Score: 0.57\n"
          ],
          "name": "stdout"
        }
      ]
    },
    {
      "metadata": {
        "id": "_uupkAW28ZUi",
        "colab_type": "code",
        "outputId": "6fbb6a5b-7b83-4107-9540-a01ae313537e",
        "colab": {
          "base_uri": "https://localhost:8080/",
          "height": 34
        }
      },
      "cell_type": "code",
      "source": [
        "from sklearn.svm import SVC  \n",
        "from sklearn.metrics import accuracy_score\n",
        "classifier = SVC(C= 10, gamma= 0.001, kernel= 'linear')\n",
        "classifier.fit(x_train, y_train)  \n",
        "y_pred = classifier.predict(x_test)\n",
        "print(\"Accuracy Score: %.3f\"%accuracy_score(y_test,y_pred))"
      ],
      "execution_count": 0,
      "outputs": [
        {
          "output_type": "stream",
          "text": [
            "Accuracy Score: 0.442\n"
          ],
          "name": "stdout"
        }
      ]
    },
    {
      "metadata": {
        "id": "sczfmgTd8udO",
        "colab_type": "text"
      },
      "cell_type": "markdown",
      "source": [
        "### X Version 2"
      ]
    },
    {
      "metadata": {
        "id": "bjOImyh28wLf",
        "colab_type": "code",
        "outputId": "00de2085-94fa-44fd-90fb-9b633c0d920f",
        "colab": {
          "base_uri": "https://localhost:8080/",
          "height": 222
        }
      },
      "cell_type": "code",
      "source": [
        "from sklearn.model_selection import GridSearchCV\n",
        "from sklearn.model_selection import train_test_split \n",
        "from sklearn.svm import SVC  \n",
        "classifier = SVC()\n",
        "x_train, x_test, y_train, y_test = train_test_split(x2, updated_y, test_size=0.2, random_state=1)\n",
        "param_grid = {'kernel':['linear', 'poly', 'rbf'],'C': [0.001, 0.01, 0.1, 1, 10], 'gamma' : [0.001, 0.01, 0.1, 1]}\n",
        "grid_search = GridSearchCV(classifier, param_grid, cv=10)\n",
        "grid_search.fit(x_train, y_train) "
      ],
      "execution_count": 0,
      "outputs": [
        {
          "output_type": "stream",
          "text": [
            "/usr/local/lib/python3.6/dist-packages/sklearn/model_selection/_search.py:841: DeprecationWarning: The default of the `iid` parameter will change from True to False in version 0.22 and will be removed in 0.24. This will change numeric results when test-set sizes are unequal.\n",
            "  DeprecationWarning)\n"
          ],
          "name": "stderr"
        },
        {
          "output_type": "execute_result",
          "data": {
            "text/plain": [
              "GridSearchCV(cv=10, error_score='raise-deprecating',\n",
              "       estimator=SVC(C=1.0, cache_size=200, class_weight=None, coef0=0.0,\n",
              "  decision_function_shape='ovr', degree=3, gamma='auto_deprecated',\n",
              "  kernel='rbf', max_iter=-1, probability=False, random_state=None,\n",
              "  shrinking=True, tol=0.001, verbose=False),\n",
              "       fit_params=None, iid='warn', n_jobs=None,\n",
              "       param_grid={'kernel': ['linear', 'poly', 'rbf'], 'C': [0.001, 0.01, 0.1, 1, 10], 'gamma': [0.001, 0.01, 0.1, 1]},\n",
              "       pre_dispatch='2*n_jobs', refit=True, return_train_score='warn',\n",
              "       scoring=None, verbose=0)"
            ]
          },
          "metadata": {
            "tags": []
          },
          "execution_count": 51
        }
      ]
    },
    {
      "metadata": {
        "id": "a_XkYTEk8zER",
        "colab_type": "code",
        "outputId": "75aa7443-baa9-457e-db5b-ca8c2018636c",
        "colab": {
          "base_uri": "https://localhost:8080/",
          "height": 34
        }
      },
      "cell_type": "code",
      "source": [
        "print(\"Parameters: %s\\t Best Score: %.2f\"%(grid_search.best_params_,grid_search.best_score_))"
      ],
      "execution_count": 0,
      "outputs": [
        {
          "output_type": "stream",
          "text": [
            "Parameters: {'C': 10, 'gamma': 1, 'kernel': 'rbf'}\t Best Score: 0.59\n"
          ],
          "name": "stdout"
        }
      ]
    },
    {
      "metadata": {
        "id": "GIhiJOij84lB",
        "colab_type": "code",
        "outputId": "f0851a22-b0d8-4868-ed07-eeb716365ee7",
        "colab": {
          "base_uri": "https://localhost:8080/",
          "height": 34
        }
      },
      "cell_type": "code",
      "source": [
        "from sklearn.svm import SVC  \n",
        "from sklearn.metrics import accuracy_score\n",
        "classifier = SVC(C= 10, gamma= 1, kernel= 'rbf')\n",
        "classifier.fit(x_train, y_train)  \n",
        "y_pred = classifier.predict(x_test)\n",
        "print(\"Accuracy Score: %.3f\"%accuracy_score(y_test,y_pred))"
      ],
      "execution_count": 0,
      "outputs": [
        {
          "output_type": "stream",
          "text": [
            "Accuracy Score: 0.558\n"
          ],
          "name": "stdout"
        }
      ]
    },
    {
      "metadata": {
        "id": "oFhPCzOB9AuK",
        "colab_type": "text"
      },
      "cell_type": "markdown",
      "source": [
        "### X Version 3"
      ]
    },
    {
      "metadata": {
        "id": "4S7NMNzh9DCU",
        "colab_type": "code",
        "outputId": "2bce305b-6abc-440b-e9f4-3c29a8f684dc",
        "colab": {
          "base_uri": "https://localhost:8080/",
          "height": 222
        }
      },
      "cell_type": "code",
      "source": [
        "from sklearn.model_selection import GridSearchCV\n",
        "from sklearn.model_selection import train_test_split \n",
        "from sklearn.svm import SVC  \n",
        "classifier = SVC()\n",
        "x_train, x_test, y_train, y_test = train_test_split(x3, updated_y, test_size=0.2, random_state=1)\n",
        "param_grid = {'kernel':['linear', 'poly', 'rbf'],'C': [0.001, 0.01, 0.1, 1, 10], 'gamma' : [0.001, 0.01, 0.1, 1]}\n",
        "grid_search = GridSearchCV(classifier, param_grid, cv=10)\n",
        "grid_search.fit(x_train, y_train) "
      ],
      "execution_count": 0,
      "outputs": [
        {
          "output_type": "stream",
          "text": [
            "/usr/local/lib/python3.6/dist-packages/sklearn/model_selection/_search.py:841: DeprecationWarning: The default of the `iid` parameter will change from True to False in version 0.22 and will be removed in 0.24. This will change numeric results when test-set sizes are unequal.\n",
            "  DeprecationWarning)\n"
          ],
          "name": "stderr"
        },
        {
          "output_type": "execute_result",
          "data": {
            "text/plain": [
              "GridSearchCV(cv=10, error_score='raise-deprecating',\n",
              "       estimator=SVC(C=1.0, cache_size=200, class_weight=None, coef0=0.0,\n",
              "  decision_function_shape='ovr', degree=3, gamma='auto_deprecated',\n",
              "  kernel='rbf', max_iter=-1, probability=False, random_state=None,\n",
              "  shrinking=True, tol=0.001, verbose=False),\n",
              "       fit_params=None, iid='warn', n_jobs=None,\n",
              "       param_grid={'kernel': ['linear', 'poly', 'rbf'], 'C': [0.001, 0.01, 0.1, 1, 10], 'gamma': [0.001, 0.01, 0.1, 1]},\n",
              "       pre_dispatch='2*n_jobs', refit=True, return_train_score='warn',\n",
              "       scoring=None, verbose=0)"
            ]
          },
          "metadata": {
            "tags": []
          },
          "execution_count": 54
        }
      ]
    },
    {
      "metadata": {
        "id": "SkV4U6Wr9I-o",
        "colab_type": "code",
        "outputId": "3cea9b14-7dc5-4d44-d4b0-a8d6a8ac302b",
        "colab": {
          "base_uri": "https://localhost:8080/",
          "height": 34
        }
      },
      "cell_type": "code",
      "source": [
        "print(\"Parameters: %s\\t Best Score: %.2f\"%(grid_search.best_params_,grid_search.best_score_))"
      ],
      "execution_count": 0,
      "outputs": [
        {
          "output_type": "stream",
          "text": [
            "Parameters: {'C': 0.1, 'gamma': 1, 'kernel': 'poly'}\t Best Score: 0.57\n"
          ],
          "name": "stdout"
        }
      ]
    },
    {
      "metadata": {
        "id": "kKfWEA8I9vCl",
        "colab_type": "code",
        "outputId": "e01fb531-10a7-4c29-cc36-03064708ab6c",
        "colab": {
          "base_uri": "https://localhost:8080/",
          "height": 34
        }
      },
      "cell_type": "code",
      "source": [
        "from sklearn.svm import SVC  \n",
        "from sklearn.metrics import accuracy_score\n",
        "classifier = SVC(C= 0.1, gamma= 1, kernel= 'poly')\n",
        "classifier.fit(x_train, y_train)  \n",
        "y_pred = classifier.predict(x_test)\n",
        "print(\"Accuracy Score: %.3f\"%accuracy_score(y_test,y_pred))"
      ],
      "execution_count": 0,
      "outputs": [
        {
          "output_type": "stream",
          "text": [
            "Accuracy Score: 0.567\n"
          ],
          "name": "stdout"
        }
      ]
    },
    {
      "metadata": {
        "id": "hWgtqv1W92Xx",
        "colab_type": "text"
      },
      "cell_type": "markdown",
      "source": [
        "## Logistic Regression"
      ]
    },
    {
      "metadata": {
        "id": "roKE-wm699vL",
        "colab_type": "text"
      },
      "cell_type": "markdown",
      "source": [
        "### X Version 1"
      ]
    },
    {
      "metadata": {
        "id": "PAzZ3wUA96Ek",
        "colab_type": "code",
        "outputId": "e3657ed2-5604-4ee8-8603-bc1454fc2cfb",
        "colab": {
          "base_uri": "https://localhost:8080/",
          "height": 222
        }
      },
      "cell_type": "code",
      "source": [
        "from sklearn.linear_model import LogisticRegression\n",
        "from sklearn.model_selection import GridSearchCV\n",
        "from sklearn.model_selection import train_test_split\n",
        "x_train, x_test, y_train, y_test = train_test_split(x1, updated_y, test_size=0.2, random_state=1)\n",
        "classifier = LogisticRegression(solver='liblinear')\n",
        "param_grid ={\"C\":np.logspace(-3,3,7), \"penalty\":[\"l1\",\"l2\"]}# l1 lasso l2 ridge\n",
        "grid_search = GridSearchCV(classifier, param_grid, cv=10)\n",
        "grid_search.fit(x_train, y_train)"
      ],
      "execution_count": 0,
      "outputs": [
        {
          "output_type": "stream",
          "text": [
            "/usr/local/lib/python3.6/dist-packages/sklearn/model_selection/_search.py:841: DeprecationWarning: The default of the `iid` parameter will change from True to False in version 0.22 and will be removed in 0.24. This will change numeric results when test-set sizes are unequal.\n",
            "  DeprecationWarning)\n"
          ],
          "name": "stderr"
        },
        {
          "output_type": "execute_result",
          "data": {
            "text/plain": [
              "GridSearchCV(cv=10, error_score='raise-deprecating',\n",
              "       estimator=LogisticRegression(C=1.0, class_weight=None, dual=False, fit_intercept=True,\n",
              "          intercept_scaling=1, max_iter=100, multi_class='warn',\n",
              "          n_jobs=None, penalty='l2', random_state=None, solver='liblinear',\n",
              "          tol=0.0001, verbose=0, warm_start=False),\n",
              "       fit_params=None, iid='warn', n_jobs=None,\n",
              "       param_grid={'C': array([1.e-03, 1.e-02, 1.e-01, 1.e+00, 1.e+01, 1.e+02, 1.e+03]), 'penalty': ['l1', 'l2']},\n",
              "       pre_dispatch='2*n_jobs', refit=True, return_train_score='warn',\n",
              "       scoring=None, verbose=0)"
            ]
          },
          "metadata": {
            "tags": []
          },
          "execution_count": 57
        }
      ]
    },
    {
      "metadata": {
        "id": "rwiQ_2oK-CD3",
        "colab_type": "code",
        "outputId": "4272f735-f04f-4f42-c842-af98bd4b5858",
        "colab": {
          "base_uri": "https://localhost:8080/",
          "height": 34
        }
      },
      "cell_type": "code",
      "source": [
        "print(\"Parameters: %s\\t Best Score: %.2f\"%(grid_search.best_params_,grid_search.best_score_))"
      ],
      "execution_count": 0,
      "outputs": [
        {
          "output_type": "stream",
          "text": [
            "Parameters: {'C': 10.0, 'penalty': 'l2'}\t Best Score: 0.55\n"
          ],
          "name": "stdout"
        }
      ]
    },
    {
      "metadata": {
        "id": "NwKWih8K-CoM",
        "colab_type": "code",
        "outputId": "08b7335f-a4cd-4edd-8818-965052f721ff",
        "colab": {
          "base_uri": "https://localhost:8080/",
          "height": 34
        }
      },
      "cell_type": "code",
      "source": [
        "from sklearn.metrics import accuracy_score\n",
        "from sklearn.linear_model import LogisticRegression\n",
        "classifier = LogisticRegression(solver='liblinear',C=10,penalty='l2')\n",
        "classifier.fit(x_train, y_train)  \n",
        "y_pred = classifier.predict(x_test)\n",
        "print(\"Accuracy Score: %.3f\"%accuracy_score(y_test,y_pred))"
      ],
      "execution_count": 0,
      "outputs": [
        {
          "output_type": "stream",
          "text": [
            "Accuracy Score: 0.538\n"
          ],
          "name": "stdout"
        }
      ]
    },
    {
      "metadata": {
        "id": "sIqHjjmL-OzX",
        "colab_type": "text"
      },
      "cell_type": "markdown",
      "source": [
        "### X Version 2"
      ]
    },
    {
      "metadata": {
        "id": "pM5wdgYb-Rhw",
        "colab_type": "code",
        "outputId": "1320e093-a4e7-4b49-b6d0-49219553c105",
        "colab": {
          "base_uri": "https://localhost:8080/",
          "height": 222
        }
      },
      "cell_type": "code",
      "source": [
        "from sklearn.linear_model import LogisticRegression\n",
        "from sklearn.model_selection import GridSearchCV\n",
        "from sklearn.model_selection import train_test_split\n",
        "x_train, x_test, y_train, y_test = train_test_split(x2, updated_y, test_size=0.2, random_state=1)\n",
        "classifier = LogisticRegression(solver='liblinear')\n",
        "param_grid ={\"C\":np.logspace(-3,3,7), \"penalty\":[\"l1\",\"l2\"]}# l1 lasso l2 ridge\n",
        "grid_search = GridSearchCV(classifier, param_grid, cv=10)\n",
        "grid_search.fit(x_train, y_train)"
      ],
      "execution_count": 0,
      "outputs": [
        {
          "output_type": "stream",
          "text": [
            "/usr/local/lib/python3.6/dist-packages/sklearn/model_selection/_search.py:841: DeprecationWarning: The default of the `iid` parameter will change from True to False in version 0.22 and will be removed in 0.24. This will change numeric results when test-set sizes are unequal.\n",
            "  DeprecationWarning)\n"
          ],
          "name": "stderr"
        },
        {
          "output_type": "execute_result",
          "data": {
            "text/plain": [
              "GridSearchCV(cv=10, error_score='raise-deprecating',\n",
              "       estimator=LogisticRegression(C=1.0, class_weight=None, dual=False, fit_intercept=True,\n",
              "          intercept_scaling=1, max_iter=100, multi_class='warn',\n",
              "          n_jobs=None, penalty='l2', random_state=None, solver='liblinear',\n",
              "          tol=0.0001, verbose=0, warm_start=False),\n",
              "       fit_params=None, iid='warn', n_jobs=None,\n",
              "       param_grid={'C': array([1.e-03, 1.e-02, 1.e-01, 1.e+00, 1.e+01, 1.e+02, 1.e+03]), 'penalty': ['l1', 'l2']},\n",
              "       pre_dispatch='2*n_jobs', refit=True, return_train_score='warn',\n",
              "       scoring=None, verbose=0)"
            ]
          },
          "metadata": {
            "tags": []
          },
          "execution_count": 60
        }
      ]
    },
    {
      "metadata": {
        "id": "qtscL0Ki-Tp7",
        "colab_type": "code",
        "outputId": "59c522e5-1dd4-4e20-911b-bb24e0f0f5f4",
        "colab": {
          "base_uri": "https://localhost:8080/",
          "height": 34
        }
      },
      "cell_type": "code",
      "source": [
        "print(\"Parameters: %s\\t Best Score: %.2f\"%(grid_search.best_params_,grid_search.best_score_))"
      ],
      "execution_count": 0,
      "outputs": [
        {
          "output_type": "stream",
          "text": [
            "Parameters: {'C': 100.0, 'penalty': 'l1'}\t Best Score: 0.57\n"
          ],
          "name": "stdout"
        }
      ]
    },
    {
      "metadata": {
        "id": "FLi43TWl-VB3",
        "colab_type": "code",
        "outputId": "af88333d-24c2-4528-b349-bf351a7387ff",
        "colab": {
          "base_uri": "https://localhost:8080/",
          "height": 34
        }
      },
      "cell_type": "code",
      "source": [
        "from sklearn.metrics import accuracy_score\n",
        "from sklearn.linear_model import LogisticRegression\n",
        "classifier = LogisticRegression(solver='liblinear',C=100,penalty='l1')\n",
        "classifier.fit(x_train, y_train)  \n",
        "y_pred = classifier.predict(x_test)\n",
        "print(\"Accuracy Score: %.3f\"%accuracy_score(y_test,y_pred))"
      ],
      "execution_count": 0,
      "outputs": [
        {
          "output_type": "stream",
          "text": [
            "Accuracy Score: 0.567\n"
          ],
          "name": "stdout"
        }
      ]
    },
    {
      "metadata": {
        "id": "-Frne_tz-bnB",
        "colab_type": "text"
      },
      "cell_type": "markdown",
      "source": [
        "### X Version 3"
      ]
    },
    {
      "metadata": {
        "id": "EhRvCVBj-dld",
        "colab_type": "code",
        "outputId": "739ede28-c5fd-4d9e-ac08-5f541e0deb44",
        "colab": {
          "base_uri": "https://localhost:8080/",
          "height": 222
        }
      },
      "cell_type": "code",
      "source": [
        "from sklearn.linear_model import LogisticRegression\n",
        "from sklearn.model_selection import GridSearchCV\n",
        "from sklearn.model_selection import train_test_split\n",
        "x_train, x_test, y_train, y_test = train_test_split(x3, updated_y, test_size=0.2, random_state=1)\n",
        "classifier = LogisticRegression(solver='liblinear')\n",
        "param_grid ={\"C\":np.logspace(-3,3,7), \"penalty\":[\"l1\",\"l2\"]}# l1 lasso l2 ridge\n",
        "grid_search = GridSearchCV(classifier, param_grid, cv=10)\n",
        "grid_search.fit(x_train, y_train)"
      ],
      "execution_count": 0,
      "outputs": [
        {
          "output_type": "stream",
          "text": [
            "/usr/local/lib/python3.6/dist-packages/sklearn/model_selection/_search.py:841: DeprecationWarning: The default of the `iid` parameter will change from True to False in version 0.22 and will be removed in 0.24. This will change numeric results when test-set sizes are unequal.\n",
            "  DeprecationWarning)\n"
          ],
          "name": "stderr"
        },
        {
          "output_type": "execute_result",
          "data": {
            "text/plain": [
              "GridSearchCV(cv=10, error_score='raise-deprecating',\n",
              "       estimator=LogisticRegression(C=1.0, class_weight=None, dual=False, fit_intercept=True,\n",
              "          intercept_scaling=1, max_iter=100, multi_class='warn',\n",
              "          n_jobs=None, penalty='l2', random_state=None, solver='liblinear',\n",
              "          tol=0.0001, verbose=0, warm_start=False),\n",
              "       fit_params=None, iid='warn', n_jobs=None,\n",
              "       param_grid={'C': array([1.e-03, 1.e-02, 1.e-01, 1.e+00, 1.e+01, 1.e+02, 1.e+03]), 'penalty': ['l1', 'l2']},\n",
              "       pre_dispatch='2*n_jobs', refit=True, return_train_score='warn',\n",
              "       scoring=None, verbose=0)"
            ]
          },
          "metadata": {
            "tags": []
          },
          "execution_count": 63
        }
      ]
    },
    {
      "metadata": {
        "id": "ZGWEts-K-e2c",
        "colab_type": "code",
        "outputId": "19c39c11-7601-4e9d-c36a-f3b7744cef16",
        "colab": {
          "base_uri": "https://localhost:8080/",
          "height": 34
        }
      },
      "cell_type": "code",
      "source": [
        "print(\"Parameters: %s\\t Best Score: %.2f\"%(grid_search.best_params_,grid_search.best_score_))"
      ],
      "execution_count": 0,
      "outputs": [
        {
          "output_type": "stream",
          "text": [
            "Parameters: {'C': 10.0, 'penalty': 'l2'}\t Best Score: 0.55\n"
          ],
          "name": "stdout"
        }
      ]
    },
    {
      "metadata": {
        "id": "EPREXOAu-g_u",
        "colab_type": "code",
        "outputId": "3bbb4282-280f-4d25-82ea-24ba11616869",
        "colab": {
          "base_uri": "https://localhost:8080/",
          "height": 34
        }
      },
      "cell_type": "code",
      "source": [
        "from sklearn.metrics import accuracy_score\n",
        "from sklearn.linear_model import LogisticRegression\n",
        "classifier = LogisticRegression(solver='liblinear',C=10,penalty='l2')\n",
        "classifier.fit(x_train, y_train)  \n",
        "y_pred = classifier.predict(x_test)\n",
        "print(\"Accuracy Score: %.3f\"%accuracy_score(y_test,y_pred))"
      ],
      "execution_count": 0,
      "outputs": [
        {
          "output_type": "stream",
          "text": [
            "Accuracy Score: 0.500\n"
          ],
          "name": "stdout"
        }
      ]
    },
    {
      "metadata": {
        "id": "0hFLslT7_LP4",
        "colab_type": "text"
      },
      "cell_type": "markdown",
      "source": [
        "## Decision Tree"
      ]
    },
    {
      "metadata": {
        "id": "qWXTU3fV_PEO",
        "colab_type": "code",
        "colab": {}
      },
      "cell_type": "code",
      "source": [
        "depths = np.arange(1, 21)\n",
        "num_leafs = [1, 5, 10, 20, 50, 100]\n",
        "param_grid =  [{'max_depth':depths,\n",
        "              'min_samples_leaf':num_leafs}]"
      ],
      "execution_count": 0,
      "outputs": []
    },
    {
      "metadata": {
        "id": "GqPKMoCm_Ndy",
        "colab_type": "text"
      },
      "cell_type": "markdown",
      "source": [
        "### X Version 1"
      ]
    },
    {
      "metadata": {
        "id": "OQeJwuKl_ZR4",
        "colab_type": "code",
        "outputId": "60271a96-d2dd-400f-90ac-ed41e3c94245",
        "colab": {
          "base_uri": "https://localhost:8080/",
          "height": 87
        }
      },
      "cell_type": "code",
      "source": [
        "from sklearn.model_selection import GridSearchCV  \n",
        "from sklearn.tree import DecisionTreeClassifier\n",
        "from sklearn.model_selection import train_test_split\n",
        "x_train, x_test, y_train, y_test = train_test_split(x1, updated_y, test_size=0.2, random_state=1)\n",
        "classifier=DecisionTreeClassifier()\n",
        "grid_search=GridSearchCV(classifier,param_grid,cv=10)\n",
        "grid_search.fit(x_train,y_train)\n",
        "grid_search.best_params_"
      ],
      "execution_count": 0,
      "outputs": [
        {
          "output_type": "stream",
          "text": [
            "/usr/local/lib/python3.6/dist-packages/sklearn/model_selection/_search.py:841: DeprecationWarning: The default of the `iid` parameter will change from True to False in version 0.22 and will be removed in 0.24. This will change numeric results when test-set sizes are unequal.\n",
            "  DeprecationWarning)\n"
          ],
          "name": "stderr"
        },
        {
          "output_type": "execute_result",
          "data": {
            "text/plain": [
              "{'max_depth': 3, 'min_samples_leaf': 5}"
            ]
          },
          "metadata": {
            "tags": []
          },
          "execution_count": 68
        }
      ]
    },
    {
      "metadata": {
        "id": "wTT8HW_O_cxG",
        "colab_type": "code",
        "outputId": "cf048638-89fc-40e9-899f-35d11d717897",
        "colab": {
          "base_uri": "https://localhost:8080/",
          "height": 34
        }
      },
      "cell_type": "code",
      "source": [
        "print(\"The best parameters %s with best score %.5f\"%(grid_search.best_params_,grid_search.best_score_))"
      ],
      "execution_count": 0,
      "outputs": [
        {
          "output_type": "stream",
          "text": [
            "The best parameters {'max_depth': 3, 'min_samples_leaf': 5} with best score 0.61501\n"
          ],
          "name": "stdout"
        }
      ]
    },
    {
      "metadata": {
        "id": "y0kd7G7X_feP",
        "colab_type": "code",
        "outputId": "2ae8da2a-10d9-431a-f34d-3df1faeec496",
        "colab": {
          "base_uri": "https://localhost:8080/",
          "height": 34
        }
      },
      "cell_type": "code",
      "source": [
        "from sklearn.tree import DecisionTreeClassifier\n",
        "from sklearn.metrics import classification_report\n",
        "from sklearn.metrics import accuracy_score\n",
        "classifier=DecisionTreeClassifier(max_depth= 3, min_samples_leaf= 5)\n",
        "classifier.fit(x_train, y_train)  \n",
        "y_pred = classifier.predict(x_test)\n",
        "print(\"Accuracy Score: %.3f\"%accuracy_score(y_test,y_pred))"
      ],
      "execution_count": 0,
      "outputs": [
        {
          "output_type": "stream",
          "text": [
            "Accuracy Score: 0.538\n"
          ],
          "name": "stdout"
        }
      ]
    },
    {
      "metadata": {
        "id": "Yet68td6_n1n",
        "colab_type": "text"
      },
      "cell_type": "markdown",
      "source": [
        "### X Version 2"
      ]
    },
    {
      "metadata": {
        "id": "GKWY_piW_psH",
        "colab_type": "code",
        "outputId": "88fd22ca-0c7f-4596-e6e8-6b8e6bf1f1b8",
        "colab": {
          "base_uri": "https://localhost:8080/",
          "height": 87
        }
      },
      "cell_type": "code",
      "source": [
        "from sklearn.model_selection import GridSearchCV  \n",
        "from sklearn.tree import DecisionTreeClassifier\n",
        "from sklearn.model_selection import train_test_split\n",
        "x_train, x_test, y_train, y_test = train_test_split(x2, updated_y, test_size=0.2, random_state=1)\n",
        "classifier=DecisionTreeClassifier()\n",
        "grid_search=GridSearchCV(classifier,param_grid,cv=10)\n",
        "grid_search.fit(x_train,y_train)\n",
        "grid_search.best_params_"
      ],
      "execution_count": 0,
      "outputs": [
        {
          "output_type": "stream",
          "text": [
            "/usr/local/lib/python3.6/dist-packages/sklearn/model_selection/_search.py:841: DeprecationWarning: The default of the `iid` parameter will change from True to False in version 0.22 and will be removed in 0.24. This will change numeric results when test-set sizes are unequal.\n",
            "  DeprecationWarning)\n"
          ],
          "name": "stderr"
        },
        {
          "output_type": "execute_result",
          "data": {
            "text/plain": [
              "{'max_depth': 13, 'min_samples_leaf': 1}"
            ]
          },
          "metadata": {
            "tags": []
          },
          "execution_count": 72
        }
      ]
    },
    {
      "metadata": {
        "id": "evLBrdEV_rnN",
        "colab_type": "code",
        "outputId": "63ac7c77-2866-443b-d509-c35542dad2db",
        "colab": {
          "base_uri": "https://localhost:8080/",
          "height": 34
        }
      },
      "cell_type": "code",
      "source": [
        "print(\"The best parameters %s with best score %.5f\"%(grid_search.best_params_,grid_search.best_score_))"
      ],
      "execution_count": 0,
      "outputs": [
        {
          "output_type": "stream",
          "text": [
            "The best parameters {'max_depth': 13, 'min_samples_leaf': 1} with best score 0.60291\n"
          ],
          "name": "stdout"
        }
      ]
    },
    {
      "metadata": {
        "id": "DewUC7Kv_u0N",
        "colab_type": "code",
        "outputId": "2be4350c-6b27-4244-f572-50b85e8ce1e7",
        "colab": {
          "base_uri": "https://localhost:8080/",
          "height": 34
        }
      },
      "cell_type": "code",
      "source": [
        "from sklearn.tree import DecisionTreeClassifier\n",
        "from sklearn.metrics import classification_report\n",
        "from sklearn.metrics import accuracy_score\n",
        "classifier=DecisionTreeClassifier(max_depth= 13, min_samples_leaf= 1)\n",
        "classifier.fit(x_train, y_train)  \n",
        "y_pred = classifier.predict(x_test)\n",
        "print(\"Accuracy Score: %.3f\"%accuracy_score(y_test,y_pred))"
      ],
      "execution_count": 0,
      "outputs": [
        {
          "output_type": "stream",
          "text": [
            "Accuracy Score: 0.471\n"
          ],
          "name": "stdout"
        }
      ]
    },
    {
      "metadata": {
        "id": "80T518B7_ww9",
        "colab_type": "text"
      },
      "cell_type": "markdown",
      "source": [
        "### X Version 3"
      ]
    },
    {
      "metadata": {
        "id": "ibS8FOIY_uxH",
        "colab_type": "code",
        "outputId": "e9f34dc5-da3a-4af2-c066-bea163137458",
        "colab": {
          "base_uri": "https://localhost:8080/",
          "height": 87
        }
      },
      "cell_type": "code",
      "source": [
        "from sklearn.model_selection import GridSearchCV  \n",
        "from sklearn.tree import DecisionTreeClassifier\n",
        "from sklearn.model_selection import train_test_split\n",
        "x_train, x_test, y_train, y_test = train_test_split(x3, updated_y, test_size=0.2, random_state=1)\n",
        "classifier=DecisionTreeClassifier()\n",
        "grid_search=GridSearchCV(classifier,param_grid,cv=10)\n",
        "grid_search.fit(x_train,y_train)\n",
        "grid_search.best_params_"
      ],
      "execution_count": 0,
      "outputs": [
        {
          "output_type": "stream",
          "text": [
            "/usr/local/lib/python3.6/dist-packages/sklearn/model_selection/_search.py:841: DeprecationWarning: The default of the `iid` parameter will change from True to False in version 0.22 and will be removed in 0.24. This will change numeric results when test-set sizes are unequal.\n",
            "  DeprecationWarning)\n"
          ],
          "name": "stderr"
        },
        {
          "output_type": "execute_result",
          "data": {
            "text/plain": [
              "{'max_depth': 13, 'min_samples_leaf': 10}"
            ]
          },
          "metadata": {
            "tags": []
          },
          "execution_count": 75
        }
      ]
    },
    {
      "metadata": {
        "id": "8onS3hsO_1A_",
        "colab_type": "code",
        "outputId": "0ecacb19-1cf8-4e26-c348-4165de855c57",
        "colab": {
          "base_uri": "https://localhost:8080/",
          "height": 34
        }
      },
      "cell_type": "code",
      "source": [
        "print(\"The best parameters %s with best score %.5f\"%(grid_search.best_params_,grid_search.best_score_))"
      ],
      "execution_count": 0,
      "outputs": [
        {
          "output_type": "stream",
          "text": [
            "The best parameters {'max_depth': 13, 'min_samples_leaf': 10} with best score 0.64165\n"
          ],
          "name": "stdout"
        }
      ]
    },
    {
      "metadata": {
        "id": "rBN74aJa_3JJ",
        "colab_type": "code",
        "outputId": "e7d64c72-b6f6-4a67-da52-6ed753be14aa",
        "colab": {
          "base_uri": "https://localhost:8080/",
          "height": 34
        }
      },
      "cell_type": "code",
      "source": [
        "from sklearn.tree import DecisionTreeClassifier\n",
        "from sklearn.metrics import classification_report\n",
        "from sklearn.metrics import accuracy_score\n",
        "classifier=DecisionTreeClassifier(max_depth= 13, min_samples_leaf= 10)\n",
        "classifier.fit(x_train, y_train)  \n",
        "y_pred = classifier.predict(x_test)\n",
        "print(\"Accuracy Score: %.3f\"%accuracy_score(y_test,y_pred))"
      ],
      "execution_count": 0,
      "outputs": [
        {
          "output_type": "stream",
          "text": [
            "Accuracy Score: 0.519\n"
          ],
          "name": "stdout"
        }
      ]
    },
    {
      "metadata": {
        "id": "xo_DfQcEAFku",
        "colab_type": "text"
      },
      "cell_type": "markdown",
      "source": [
        "# Conclusion\n"
      ]
    },
    {
      "metadata": {
        "id": "xE1m3dTdElw2",
        "colab_type": "text"
      },
      "cell_type": "markdown",
      "source": [
        "In this dataset, due to the limited number of observations, getting an high accuracy was  a hard job to do. I tried to use the features with highest importance or tried to reduce the dimension with PCA or eliminate the features that are not that have high effect. In addition, even though this dataset can be used both for classification and regression, I decided to focus on classification task. To do so, I have converted the area burned column to a binary variable where 1 determines there is a fire and 0 determines there is none.\n",
        "\n",
        "I used SVM, Decision Tree, Logistic Regression and KNN and used both grid search and based on the results of grid search I train the model and calculate the \"Accuracy\" with the test data where the ration for train-test is 80-20 percent. After this processes, I selected the  Logistic Regression model with parameter C=100 and penalty is L1 (Lasso Regression).\n",
        "\n",
        "As a future work, I had 2 main ideas that I couldn't try for this time due to the time I spent for the first dataset.\n",
        "\n",
        "1)  Instead of using month column as a variable, I planned to generate season column. Even though  I did not explore the distributions of the fires based on the months, I believe that there should be a seasonal change for the forest fires. Hence, to explore data in that direction and making the conversion if necessary was my first idea\n",
        "\n",
        "2) Similarly, instead of having days in the data, distributions between weekends and weekdays might be examined as the human factor for a forest fire is increasing in the weekends due to the social activities take place in the forests (picnics etc.). This was a collobarative idea that I talk with my friends taking the course.\n",
        "\n",
        "All in all, in this dataset, I have learned that the importance of the exploration of the dataset to extract features, i.e. meaningful features that can represent data properly in the learning models. In addition, the importance of the data for learning is emphasized for me as the dataset has limited observations."
      ]
    }
  ]
}