{
  "nbformat": 4,
  "nbformat_minor": 0,
  "metadata": {
    "colab": {
      "name": "YATBAZ_adult_census_income.ipynb",
      "version": "0.3.2",
      "provenance": [],
      "collapsed_sections": [],
      "toc_visible": true,
      "include_colab_link": true
    },
    "kernelspec": {
      "name": "python3",
      "display_name": "Python 3"
    }
  },
  "cells": [
    {
      "cell_type": "markdown",
      "metadata": {
        "id": "view-in-github",
        "colab_type": "text"
      },
      "source": [
        "<a href=\"https://colab.research.google.com/github/HknyYtbz/cng-562/blob/master/YATBAZ_adult_census_income.ipynb\" target=\"_parent\"><img src=\"https://colab.research.google.com/assets/colab-badge.svg\" alt=\"Open In Colab\"/></a>"
      ]
    },
    {
      "metadata": {
        "id": "d4GbGJyhbpDr",
        "colab_type": "text"
      },
      "cell_type": "markdown",
      "source": [
        "# Data Loading"
      ]
    },
    {
      "metadata": {
        "id": "vs4Z6K4NDgCy",
        "colab_type": "code",
        "colab": {}
      },
      "cell_type": "code",
      "source": [
        "import numpy as np\n",
        "import pandas as pd"
      ],
      "execution_count": 0,
      "outputs": []
    },
    {
      "metadata": {
        "id": "GNyYkFmhRCDz",
        "colab_type": "text"
      },
      "cell_type": "markdown",
      "source": [
        "Please upload your Kaggle API JSON named as kaggle.json to download the data\n"
      ]
    },
    {
      "metadata": {
        "id": "LGlH-08iYSHc",
        "colab_type": "code",
        "outputId": "7dccb02a-6e19-4fc0-f14e-f2893585bb57",
        "colab": {
          "resources": {
            "http://localhost:8080/nbextensions/google.colab/files.js": {
              "data": "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",
              "ok": true,
              "headers": [
                [
                  "content-type",
                  "application/javascript"
                ]
              ],
              "status": 200,
              "status_text": ""
            }
          },
          "base_uri": "https://localhost:8080/",
          "height": 142
        }
      },
      "cell_type": "code",
      "source": [
        "from google.colab import files\n",
        "#Kaggle api key upload\n",
        "files.upload()\n",
        "#Essential downloads for the project, especially the kaggle dataset download\n",
        "!pip install -U -q kaggle\n",
        "!mkdir -p ~/.kaggle\n",
        "!cp kaggle.json ~/.kaggle/\n",
        "!chmod 600 /root/.kaggle/kaggle.json \n",
        "!kaggle datasets download -d uciml/adult-census-income\n",
        "!ls\n"
      ],
      "execution_count": 0,
      "outputs": [
        {
          "output_type": "display_data",
          "data": {
            "text/html": [
              "\n",
              "     <input type=\"file\" id=\"files-5dd47a11-108c-4333-86ca-f4406b93bbc2\" name=\"files[]\" multiple disabled />\n",
              "     <output id=\"result-5dd47a11-108c-4333-86ca-f4406b93bbc2\">\n",
              "      Upload widget is only available when the cell has been executed in the\n",
              "      current browser session. Please rerun this cell to enable.\n",
              "      </output>\n",
              "      <script src=\"/nbextensions/google.colab/files.js\"></script> "
            ],
            "text/plain": [
              "<IPython.core.display.HTML object>"
            ]
          },
          "metadata": {
            "tags": []
          }
        },
        {
          "output_type": "stream",
          "text": [
            "Saving kaggle.json to kaggle.json\n",
            "Downloading adult-census-income.zip to /content\n",
            "  0% 0.00/465k [00:00<?, ?B/s]\n",
            "100% 465k/465k [00:00<00:00, 71.5MB/s]\n",
            "adult-census-income.zip  kaggle.json  sample_data\n"
          ],
          "name": "stdout"
        }
      ]
    },
    {
      "metadata": {
        "id": "bN1fMD7GfJW7",
        "colab_type": "code",
        "colab": {}
      },
      "cell_type": "code",
      "source": [
        "df = pd.read_csv('/content/adult-census-income.zip', compression='zip', header=0, sep=',', quotechar='\"')\n",
        "#To get the number of rows with NA value\n",
        "df= df.replace('?', np.nan)\n",
        "df_v2 = df"
      ],
      "execution_count": 0,
      "outputs": []
    },
    {
      "metadata": {
        "id": "C3tb7DAJbvAW",
        "colab_type": "text"
      },
      "cell_type": "markdown",
      "source": [
        " # Helper Functions"
      ]
    },
    {
      "metadata": {
        "id": "nm6kbUgsRJnI",
        "colab_type": "text"
      },
      "cell_type": "markdown",
      "source": [
        "I have 4 helper function that I wrote in my first iteration.\n",
        "\n",
        "1.   **categorical_to_dumy**: It has the same effect as the pandas get dummies function except removing one of the columns to avoid dummy trap. I updated my implementation with get dummies yet left this function to improve for my needs later on\n",
        "\n",
        "2.   **categorical_to_numeric**: I puts values to categorical variables between 0 - number of unique elements to make them numerrical\n",
        "\n",
        "3. **mapping**: This function is written to apply categorical to numberic function at one run to the dataset with apply function\n",
        "\n",
        "4. **makeInt**: This is a mapping function from Boolean to Integer, again it is implemented to be used with apply function to the DataFrame\n",
        "\n"
      ]
    },
    {
      "metadata": {
        "id": "MMa7F8wgYtJM",
        "colab_type": "code",
        "colab": {}
      },
      "cell_type": "code",
      "source": [
        "mapping_table = None\n",
        "#Helper Functions for Preprocessing and Analysis (Not all used)\n",
        "def makeInt(x):\n",
        "  return 1 if x==True else 0\n",
        "def categorical_to_dumy(st,df):\n",
        "  for elem in df[st].unique():\n",
        "    df[str(elem)] = df[st] == elem\n",
        "    df[str(elem)] = df[str(elem)].apply(makeInt)\n",
        "  df = df.drop(st, axis=1)\n",
        "  return df\n",
        "\n",
        "def mapping(x):\n",
        "  global mapping_table\n",
        "  return mapping_table[x]\n",
        "  \n",
        "def categorical_to_numeric(st,df): #quite inefficient way\n",
        "  global mapping_table\n",
        "  mapping_table = dict(zip(df[st].unique(), range(len(df[st].unique()))))\n",
        "  return df[st].apply(mapping)\n",
        "#df = pd.get_dummies(df, columns=['workclass', 'education', 'marital.status', 'occupation', 'relationship', 'race', 'sex', 'native.country', 'income'], drop_first=True)\n"
      ],
      "execution_count": 0,
      "outputs": []
    },
    {
      "metadata": {
        "id": "wlqQNN5Zb1ip",
        "colab_type": "text"
      },
      "cell_type": "markdown",
      "source": [
        "# Preprocessing"
      ]
    },
    {
      "metadata": {
        "id": "OP4DI5OPRQ_B",
        "colab_type": "text"
      },
      "cell_type": "markdown",
      "source": [
        "As a preprocessing, I first checked some properties to understand the data better. The flow is as follows:\n",
        "\n",
        "1.   Get general information about each variable, their min, max, mean values etc.\n",
        "2.   Get the percentage of NA values for each column to decide on a strategy for handling missing data. *** In this dataset  the NA values were in categorical values with a percentage less than 20% (around 0-6%), so I fill them with the most occured values (mode).*** . However, the code given is  handling the  both continous variables and discerete variables  by putting mean (if continous) and mode (if discrete) value to the NA values.\n",
        "3. After handling missing data, the continous variables are normalized with a minmax scaler to make them between zero and one, so that it will be more accurate to use them in the models.\n",
        "4. Lastly, the categorical variables are converted into numeric values between 0 to number of unique elements in that variable. Pandas get_dummies dunction could be used as well to have a better representation of the data for machine learning models\n",
        "\n",
        "\n"
      ]
    },
    {
      "metadata": {
        "id": "qHFqj_qiYxRt",
        "colab_type": "code",
        "outputId": "cdd647b9-9c8a-48e1-a4ab-7c6ec451f88c",
        "colab": {
          "base_uri": "https://localhost:8080/",
          "height": 686
        }
      },
      "cell_type": "code",
      "source": [
        "dimension = df.shape\n",
        "\"\"\"\n",
        "#Column Information Retrieval\n",
        "for j in range(dimension[1]):\n",
        "  print(df[df.columns[j]].describe())\n",
        "  print(\"--------------------\")\n",
        "#NA Value Information Retrieval\n",
        "print(\"----Number of NA's-------\")\n",
        "for j in range(dimension[1]):\n",
        "     #print(df.columns[j],df.iloc[:,j].isnull().values.ravel().sum())\n",
        "     print(\"%s:%.2f%%\"%(df.columns[j],(df.iloc[:,j].isnull().values.ravel().sum()/len(df.iloc[:,j].values)*100.0)))\n",
        "\"\"\"\n",
        "#Missing value handling and check\n",
        "for j in df.columns:\n",
        "  if df[j].dtype.name=='object':\n",
        "    df[j].fillna(df[j].mode()[0],inplace=True)\n",
        "  else:\n",
        "    df[j].fillna(df[j].mean(),inplace=True)\n",
        "df.head()\n",
        "\n",
        "print(\"----Number of NA's-------\")\n",
        "for j in range(dimension[1]):\n",
        "     #print(df.columns[j],df.iloc[:,j].isnull().values.ravel().sum())\n",
        "     print(\"%s:%.2f%%\"%(df.columns[j],(df.iloc[:,j].isnull().values.ravel().sum()/len(df.iloc[:,j].values)*100.0)))\n",
        "\n",
        "from sklearn.preprocessing import minmax_scale\n",
        "for i in df.columns:\n",
        "  if df[i].dtype.name != 'object':\n",
        "    # Fit your data on the scaler object\n",
        "     df[i] = pd.DataFrame(minmax_scale(df[i]))   \n",
        "#Convert categorical values to numeric\n",
        "\"\"\"\n",
        "#My code for dummies I used pandas version\n",
        "for i in df.columns:\n",
        "  if df[i].dtype.name == 'object':\n",
        "    if i != \"income\":\n",
        "      df = categorical_to_dumy(i,df)\n",
        "    else:\n",
        "      df[i] = categorical_to_numeric(i,df)\n",
        "df.head()\n",
        "\"\"\"\n",
        "for i in df.columns:\n",
        "  if df[i].dtype.name == 'object':\n",
        "    df[i] = categorical_to_numeric(i,df)\n",
        "df.head()"
      ],
      "execution_count": 0,
      "outputs": [
        {
          "output_type": "stream",
          "text": [
            "----Number of NA's-------\n",
            "age:0.00%\n",
            "workclass:0.00%\n",
            "fnlwgt:0.00%\n",
            "education:0.00%\n",
            "education.num:0.00%\n",
            "marital.status:0.00%\n",
            "occupation:0.00%\n",
            "relationship:0.00%\n",
            "race:0.00%\n",
            "sex:0.00%\n",
            "capital.gain:0.00%\n",
            "capital.loss:0.00%\n",
            "hours.per.week:0.00%\n",
            "native.country:0.00%\n",
            "income:0.00%\n"
          ],
          "name": "stdout"
        },
        {
          "output_type": "stream",
          "text": [
            "/usr/local/lib/python3.6/dist-packages/sklearn/utils/validation.py:595: DataConversionWarning: Data with input dtype int64 was converted to float64.\n",
            "  warnings.warn(msg, DataConversionWarning)\n",
            "/usr/local/lib/python3.6/dist-packages/sklearn/utils/validation.py:595: DataConversionWarning: Data with input dtype int64 was converted to float64.\n",
            "  warnings.warn(msg, DataConversionWarning)\n",
            "/usr/local/lib/python3.6/dist-packages/sklearn/utils/validation.py:595: DataConversionWarning: Data with input dtype int64 was converted to float64.\n",
            "  warnings.warn(msg, DataConversionWarning)\n",
            "/usr/local/lib/python3.6/dist-packages/sklearn/utils/validation.py:595: DataConversionWarning: Data with input dtype int64 was converted to float64.\n",
            "  warnings.warn(msg, DataConversionWarning)\n",
            "/usr/local/lib/python3.6/dist-packages/sklearn/utils/validation.py:595: DataConversionWarning: Data with input dtype int64 was converted to float64.\n",
            "  warnings.warn(msg, DataConversionWarning)\n",
            "/usr/local/lib/python3.6/dist-packages/sklearn/utils/validation.py:595: DataConversionWarning: Data with input dtype int64 was converted to float64.\n",
            "  warnings.warn(msg, DataConversionWarning)\n"
          ],
          "name": "stderr"
        },
        {
          "output_type": "execute_result",
          "data": {
            "text/html": [
              "<div>\n",
              "<style scoped>\n",
              "    .dataframe tbody tr th:only-of-type {\n",
              "        vertical-align: middle;\n",
              "    }\n",
              "\n",
              "    .dataframe tbody tr th {\n",
              "        vertical-align: top;\n",
              "    }\n",
              "\n",
              "    .dataframe thead th {\n",
              "        text-align: right;\n",
              "    }\n",
              "</style>\n",
              "<table border=\"1\" class=\"dataframe\">\n",
              "  <thead>\n",
              "    <tr style=\"text-align: right;\">\n",
              "      <th></th>\n",
              "      <th>age</th>\n",
              "      <th>workclass</th>\n",
              "      <th>fnlwgt</th>\n",
              "      <th>education</th>\n",
              "      <th>education.num</th>\n",
              "      <th>marital.status</th>\n",
              "      <th>occupation</th>\n",
              "      <th>relationship</th>\n",
              "      <th>race</th>\n",
              "      <th>sex</th>\n",
              "      <th>capital.gain</th>\n",
              "      <th>capital.loss</th>\n",
              "      <th>hours.per.week</th>\n",
              "      <th>native.country</th>\n",
              "      <th>income</th>\n",
              "    </tr>\n",
              "  </thead>\n",
              "  <tbody>\n",
              "    <tr>\n",
              "      <th>0</th>\n",
              "      <td>1.000000</td>\n",
              "      <td>0</td>\n",
              "      <td>0.043987</td>\n",
              "      <td>0</td>\n",
              "      <td>0.533333</td>\n",
              "      <td>0</td>\n",
              "      <td>0</td>\n",
              "      <td>0</td>\n",
              "      <td>0</td>\n",
              "      <td>0</td>\n",
              "      <td>0.0</td>\n",
              "      <td>1.000000</td>\n",
              "      <td>0.397959</td>\n",
              "      <td>0</td>\n",
              "      <td>0</td>\n",
              "    </tr>\n",
              "    <tr>\n",
              "      <th>1</th>\n",
              "      <td>0.890411</td>\n",
              "      <td>0</td>\n",
              "      <td>0.081896</td>\n",
              "      <td>0</td>\n",
              "      <td>0.533333</td>\n",
              "      <td>0</td>\n",
              "      <td>1</td>\n",
              "      <td>0</td>\n",
              "      <td>0</td>\n",
              "      <td>0</td>\n",
              "      <td>0.0</td>\n",
              "      <td>1.000000</td>\n",
              "      <td>0.173469</td>\n",
              "      <td>0</td>\n",
              "      <td>0</td>\n",
              "    </tr>\n",
              "    <tr>\n",
              "      <th>2</th>\n",
              "      <td>0.671233</td>\n",
              "      <td>0</td>\n",
              "      <td>0.118021</td>\n",
              "      <td>1</td>\n",
              "      <td>0.600000</td>\n",
              "      <td>0</td>\n",
              "      <td>0</td>\n",
              "      <td>1</td>\n",
              "      <td>1</td>\n",
              "      <td>0</td>\n",
              "      <td>0.0</td>\n",
              "      <td>1.000000</td>\n",
              "      <td>0.397959</td>\n",
              "      <td>0</td>\n",
              "      <td>0</td>\n",
              "    </tr>\n",
              "    <tr>\n",
              "      <th>3</th>\n",
              "      <td>0.506849</td>\n",
              "      <td>0</td>\n",
              "      <td>0.086982</td>\n",
              "      <td>2</td>\n",
              "      <td>0.200000</td>\n",
              "      <td>1</td>\n",
              "      <td>2</td>\n",
              "      <td>1</td>\n",
              "      <td>0</td>\n",
              "      <td>0</td>\n",
              "      <td>0.0</td>\n",
              "      <td>0.895317</td>\n",
              "      <td>0.397959</td>\n",
              "      <td>0</td>\n",
              "      <td>0</td>\n",
              "    </tr>\n",
              "    <tr>\n",
              "      <th>4</th>\n",
              "      <td>0.328767</td>\n",
              "      <td>0</td>\n",
              "      <td>0.171404</td>\n",
              "      <td>1</td>\n",
              "      <td>0.600000</td>\n",
              "      <td>2</td>\n",
              "      <td>0</td>\n",
              "      <td>2</td>\n",
              "      <td>0</td>\n",
              "      <td>0</td>\n",
              "      <td>0.0</td>\n",
              "      <td>0.895317</td>\n",
              "      <td>0.397959</td>\n",
              "      <td>0</td>\n",
              "      <td>0</td>\n",
              "    </tr>\n",
              "  </tbody>\n",
              "</table>\n",
              "</div>"
            ],
            "text/plain": [
              "        age  workclass    fnlwgt  education  education.num  marital.status  \\\n",
              "0  1.000000          0  0.043987          0       0.533333               0   \n",
              "1  0.890411          0  0.081896          0       0.533333               0   \n",
              "2  0.671233          0  0.118021          1       0.600000               0   \n",
              "3  0.506849          0  0.086982          2       0.200000               1   \n",
              "4  0.328767          0  0.171404          1       0.600000               2   \n",
              "\n",
              "   occupation  relationship  race  sex  capital.gain  capital.loss  \\\n",
              "0           0             0     0    0           0.0      1.000000   \n",
              "1           1             0     0    0           0.0      1.000000   \n",
              "2           0             1     1    0           0.0      1.000000   \n",
              "3           2             1     0    0           0.0      0.895317   \n",
              "4           0             2     0    0           0.0      0.895317   \n",
              "\n",
              "   hours.per.week  native.country  income  \n",
              "0        0.397959               0       0  \n",
              "1        0.173469               0       0  \n",
              "2        0.397959               0       0  \n",
              "3        0.397959               0       0  \n",
              "4        0.397959               0       0  "
            ]
          },
          "metadata": {
            "tags": []
          },
          "execution_count": 7
        }
      ]
    },
    {
      "metadata": {
        "id": "VLNXTFg0cOWe",
        "colab_type": "text"
      },
      "cell_type": "markdown",
      "source": [
        "# Dimensionalty Reduction & Feature Selection\n"
      ]
    },
    {
      "metadata": {
        "id": "FMXh63O9Rn7n",
        "colab_type": "text"
      },
      "cell_type": "markdown",
      "source": [
        "I tried 3 different methods to eliminate features just to see their effect."
      ]
    },
    {
      "metadata": {
        "id": "uOdxfEIgqYuA",
        "colab_type": "text"
      },
      "cell_type": "markdown",
      "source": [
        "## Feature Importance"
      ]
    },
    {
      "metadata": {
        "id": "L6u3RZ7j0NSt",
        "colab_type": "code",
        "colab": {}
      },
      "cell_type": "code",
      "source": [
        "y = df[\"income\"]\n",
        "x = df.drop(\"income\", axis=1)"
      ],
      "execution_count": 0,
      "outputs": []
    },
    {
      "metadata": {
        "id": "gidCLCYHcNBQ",
        "colab_type": "code",
        "outputId": "950006c8-e5e5-48f6-ae9a-494e5272de44",
        "colab": {
          "base_uri": "https://localhost:8080/",
          "height": 430
        }
      },
      "cell_type": "code",
      "source": [
        "from sklearn.ensemble import ExtraTreesClassifier\n",
        "import matplotlib.pyplot as plt\n",
        "model = ExtraTreesClassifier()\n",
        "model.fit(x, y)\n",
        "values = model.feature_importances_\n",
        "#print(x.shape)\n",
        "\n",
        "# horizontal bar plot of feature importance\n",
        "pos = np.arange(14) + 0.5\n",
        "plt.barh(pos, values, align='center')\n",
        "plt.title(\"Feature Importance\")\n",
        "plt.xlabel(\"Model Accuracy\")\n",
        "plt.ylabel(\"Features\")\n",
        "plt.yticks(pos, x.columns)\n",
        "plt.grid(True)"
      ],
      "execution_count": 0,
      "outputs": [
        {
          "output_type": "stream",
          "text": [
            "/usr/local/lib/python3.6/dist-packages/sklearn/ensemble/forest.py:246: FutureWarning: The default value of n_estimators will change from 10 in version 0.20 to 100 in 0.22.\n",
            "  \"10 in version 0.20 to 100 in 0.22.\", FutureWarning)\n"
          ],
          "name": "stderr"
        },
        {
          "output_type": "display_data",
          "data": {
            "image/png": "[encoded data removed]",
            "text/plain": [
              "<Figure size 576x396 with 1 Axes>"
            ]
          },
          "metadata": {
            "tags": []
          }
        }
      ]
    },
    {
      "metadata": {
        "id": "zYmBorRCRtZg",
        "colab_type": "text"
      },
      "cell_type": "markdown",
      "source": [
        "Selected the columns with higher importance values. "
      ]
    },
    {
      "metadata": {
        "id": "KZ2P4nWqvv4M",
        "colab_type": "code",
        "colab": {}
      },
      "cell_type": "code",
      "source": [
        "x_version1 = df[[\"age\",\"fnlwgt\",\"marital.status\",\"hours.per.week\"]]"
      ],
      "execution_count": 0,
      "outputs": []
    },
    {
      "metadata": {
        "id": "mUYQetbeg5WV",
        "colab_type": "text"
      },
      "cell_type": "markdown",
      "source": [
        "## Recursive Feature Elimination"
      ]
    },
    {
      "metadata": {
        "id": "e_crIM-sgvkT",
        "colab_type": "code",
        "outputId": "b3a0f79a-494d-4ac2-805b-551af2514770",
        "colab": {
          "base_uri": "https://localhost:8080/",
          "height": 171
        }
      },
      "cell_type": "code",
      "source": [
        "from sklearn.feature_selection import RFE\n",
        "from sklearn.linear_model import LogisticRegression\n",
        "model = LogisticRegression(solver='lbfgs')\n",
        "rfe = RFE(model, 4)\n",
        "fit = rfe.fit(x, y)\n",
        "selected = [x.columns[i]  for i in range(len(fit.support_)) if fit.support_[i]]\n",
        "x_version2 = x[selected]"
      ],
      "execution_count": 0,
      "outputs": [
        {
          "output_type": "stream",
          "text": [
            "/usr/local/lib/python3.6/dist-packages/sklearn/linear_model/logistic.py:758: ConvergenceWarning: lbfgs failed to converge. Increase the number of iterations.\n",
            "  \"of iterations.\", ConvergenceWarning)\n",
            "/usr/local/lib/python3.6/dist-packages/sklearn/linear_model/logistic.py:758: ConvergenceWarning: lbfgs failed to converge. Increase the number of iterations.\n",
            "  \"of iterations.\", ConvergenceWarning)\n",
            "/usr/local/lib/python3.6/dist-packages/sklearn/linear_model/logistic.py:758: ConvergenceWarning: lbfgs failed to converge. Increase the number of iterations.\n",
            "  \"of iterations.\", ConvergenceWarning)\n",
            "/usr/local/lib/python3.6/dist-packages/sklearn/linear_model/logistic.py:758: ConvergenceWarning: lbfgs failed to converge. Increase the number of iterations.\n",
            "  \"of iterations.\", ConvergenceWarning)\n"
          ],
          "name": "stderr"
        }
      ]
    },
    {
      "metadata": {
        "id": "2y3JniIziyV_",
        "colab_type": "text"
      },
      "cell_type": "markdown",
      "source": [
        "## Principal Component Analysis (PCA)"
      ]
    },
    {
      "metadata": {
        "id": "KwtqsHLJixnM",
        "colab_type": "code",
        "colab": {}
      },
      "cell_type": "code",
      "source": [
        "from sklearn.decomposition import PCA\n",
        "pca = PCA(n_components=4)\n",
        "principalComponents = pca.fit_transform(x)\n",
        "x_version3 = pd.DataFrame(data = principalComponents)"
      ],
      "execution_count": 0,
      "outputs": []
    },
    {
      "metadata": {
        "id": "fV6iU8NUlsKu",
        "colab_type": "text"
      },
      "cell_type": "markdown",
      "source": [
        "# Model Selection\n",
        "\n"
      ]
    },
    {
      "metadata": {
        "id": "_2rd4wiIqe3X",
        "colab_type": "text"
      },
      "cell_type": "markdown",
      "source": [
        "## KNN"
      ]
    },
    {
      "metadata": {
        "id": "p7SktwqMqb9V",
        "colab_type": "text"
      },
      "cell_type": "markdown",
      "source": [
        "### Non-Modified X"
      ]
    },
    {
      "metadata": {
        "id": "k0hCN2Axnrt4",
        "colab_type": "code",
        "outputId": "b354cc1a-3e47-47b9-eb36-5fafc67b7f78",
        "colab": {
          "base_uri": "https://localhost:8080/",
          "height": 168
        }
      },
      "cell_type": "code",
      "source": [
        "from sklearn.neighbors import KNeighborsClassifier\n",
        "from sklearn.model_selection import GridSearchCV\n",
        "from sklearn.model_selection import train_test_split\n",
        "x_train, x_test, y_train, y_test = train_test_split(x, y, test_size=0.2, random_state=1)\n",
        "param_grid = {'n_neighbors': list(range(1,28)) }#list(range(10,35))}\n",
        "print(param_grid)\n",
        "#Initial Try with desicion trees\n",
        "classifier = KNeighborsClassifier()\n",
        "\n",
        "gd_sr = GridSearchCV(estimator=classifier,  \n",
        "                     param_grid=param_grid,\n",
        "                     scoring='accuracy',\n",
        "                     cv=10)\n",
        "gd_sr.fit(x_train, y_train) "
      ],
      "execution_count": 0,
      "outputs": [
        {
          "output_type": "stream",
          "text": [
            "{'n_neighbors': [1, 2, 3, 4, 5, 6, 7, 8, 9, 10, 11, 12, 13, 14, 15, 16, 17, 18, 19, 20, 21, 22, 23, 24, 25, 26, 27]}\n"
          ],
          "name": "stdout"
        },
        {
          "output_type": "execute_result",
          "data": {
            "text/plain": [
              "GridSearchCV(cv=10, error_score='raise-deprecating',\n",
              "       estimator=KNeighborsClassifier(algorithm='auto', leaf_size=30, metric='minkowski',\n",
              "           metric_params=None, n_jobs=None, n_neighbors=5, p=2,\n",
              "           weights='uniform'),\n",
              "       fit_params=None, iid='warn', n_jobs=None,\n",
              "       param_grid={'n_neighbors': [1, 2, 3, 4, 5, 6, 7, 8, 9, 10, 11, 12, 13, 14, 15, 16, 17, 18, 19, 20, 21, 22, 23, 24, 25, 26, 27]},\n",
              "       pre_dispatch='2*n_jobs', refit=True, return_train_score='warn',\n",
              "       scoring='accuracy', verbose=0)"
            ]
          },
          "metadata": {
            "tags": []
          },
          "execution_count": 16
        }
      ]
    },
    {
      "metadata": {
        "id": "NAGOjbrnnwDm",
        "colab_type": "code",
        "outputId": "424d8ab0-6b41-4ffb-ba35-51498b40a76c",
        "colab": {
          "base_uri": "https://localhost:8080/",
          "height": 34
        }
      },
      "cell_type": "code",
      "source": [
        "print(\"Neighbors: %d\\tScore: %.2f\"%(gd_sr.best_params_['n_neighbors'],gd_sr.best_score_))"
      ],
      "execution_count": 0,
      "outputs": [
        {
          "output_type": "stream",
          "text": [
            "Neighbors: 19\tScore: 0.83\n"
          ],
          "name": "stdout"
        }
      ]
    },
    {
      "metadata": {
        "id": "DT7MoCdAET6d",
        "colab_type": "code",
        "colab": {}
      },
      "cell_type": "code",
      "source": [
        "from sklearn.neighbors import KNeighborsClassifier\n",
        "from sklearn.metrics import accuracy_score\n",
        "param_grid = {'n_neighbors': list(range(1,28)) }#list(range(10,35))}\n",
        "#Initial Try with desicion trees\n",
        "classifier = KNeighborsClassifier(n_neighbors=30)\n",
        "classifier.fit(x_train, y_train)  \n",
        "y_pred = classifier.predict(x_test)\n",
        "print(\"Accuracy: %.3f\"%accuracy_score(y_test,y_pred))"
      ],
      "execution_count": 0,
      "outputs": []
    },
    {
      "metadata": {
        "id": "OrLTXY9fnqon",
        "colab_type": "text"
      },
      "cell_type": "markdown",
      "source": [
        "### X Version 1"
      ]
    },
    {
      "metadata": {
        "id": "jo5zjqM0bl8a",
        "colab_type": "code",
        "outputId": "a8ccc8f7-f444-4b3d-ac18-2d3129a6d2d5",
        "colab": {
          "base_uri": "https://localhost:8080/",
          "height": 188
        }
      },
      "cell_type": "code",
      "source": [
        "from sklearn.neighbors import KNeighborsClassifier\n",
        "from sklearn.model_selection import GridSearchCV\n",
        "from sklearn.model_selection import train_test_split\n",
        "x_train, x_test, y_train, y_test = train_test_split(x_version1, y, test_size=0.2, random_state=1)\n",
        "param_grid = {'n_neighbors': list(range(10,35))}\n",
        "print(param_grid)\n",
        "#Initial Try with desicion trees\n",
        "classifier = KNeighborsClassifier()\n",
        "\n",
        "gd_sr = GridSearchCV(estimator=classifier,  \n",
        "                     param_grid=param_grid,\n",
        "                     scoring='accuracy',\n",
        "                     cv=10)\n",
        "gd_sr.fit(x_train, y_train) \n"
      ],
      "execution_count": 0,
      "outputs": [
        {
          "output_type": "stream",
          "text": [
            "{'n_neighbors': [10, 11, 12, 13, 14, 15, 16, 17, 18, 19, 20, 21, 22, 23, 24, 25, 26, 27, 28, 29, 30, 31, 32, 33, 34]}\n"
          ],
          "name": "stdout"
        },
        {
          "output_type": "execute_result",
          "data": {
            "text/plain": [
              "GridSearchCV(cv=10, error_score='raise-deprecating',\n",
              "       estimator=KNeighborsClassifier(algorithm='auto', leaf_size=30, metric='minkowski',\n",
              "           metric_params=None, n_jobs=None, n_neighbors=5, p=2,\n",
              "           weights='uniform'),\n",
              "       fit_params=None, iid='warn', n_jobs=None,\n",
              "       param_grid={'n_neighbors': [10, 11, 12, 13, 14, 15, 16, 17, 18, 19, 20, 21, 22, 23, 24, 25, 26, 27, 28, 29, 30, 31, 32, 33, 34]},\n",
              "       pre_dispatch='2*n_jobs', refit=True, return_train_score='warn',\n",
              "       scoring='accuracy', verbose=0)"
            ]
          },
          "metadata": {
            "tags": []
          },
          "execution_count": 18
        }
      ]
    },
    {
      "metadata": {
        "id": "eXnVmsP1m3mk",
        "colab_type": "code",
        "outputId": "c0f899e9-55a2-4485-d03f-1fdaafd07793",
        "colab": {
          "base_uri": "https://localhost:8080/",
          "height": 34
        }
      },
      "cell_type": "code",
      "source": [
        "print(\"Neighbors: %d\\tScore: %.2f\"%(gd_sr.best_params_['n_neighbors'],gd_sr.best_score_))"
      ],
      "execution_count": 0,
      "outputs": [
        {
          "output_type": "stream",
          "text": [
            "Neighbors: 21\tScore: 0.78\n"
          ],
          "name": "stdout"
        }
      ]
    },
    {
      "metadata": {
        "id": "bvGsR6ULER8F",
        "colab_type": "code",
        "colab": {}
      },
      "cell_type": "code",
      "source": [
        "from sklearn.neighbors import KNeighborsClassifier\n",
        "from sklearn.metrics import accuracy_score\n",
        "param_grid = {'n_neighbors': list(range(1,28)) }#list(range(10,35))}\n",
        "#Initial Try with desicion trees\n",
        "classifier = KNeighborsClassifier(n_neighbors=21)\n",
        "classifier.fit(x_train, y_train)  \n",
        "y_pred = classifier.predict(x_test)\n",
        "print(\"Accuracy: %.3f\"%accuracy_score(y_test,y_pred))"
      ],
      "execution_count": 0,
      "outputs": []
    },
    {
      "metadata": {
        "id": "DE6RtrBVoGfl",
        "colab_type": "text"
      },
      "cell_type": "markdown",
      "source": [
        "### X Version 2"
      ]
    },
    {
      "metadata": {
        "id": "-mQ_wj_WoKUQ",
        "colab_type": "code",
        "outputId": "2c6d7ead-2537-45b5-a1ab-b921ebb98e82",
        "colab": {
          "base_uri": "https://localhost:8080/",
          "height": 188
        }
      },
      "cell_type": "code",
      "source": [
        "from sklearn.neighbors import KNeighborsClassifier\n",
        "from sklearn.model_selection import GridSearchCV\n",
        "from sklearn.model_selection import train_test_split\n",
        "x_train, x_test, y_train, y_test = train_test_split(x_version2, y, test_size=0.2, random_state=1)\n",
        "param_grid = {'n_neighbors': list(range(10,35))}\n",
        "print(param_grid)\n",
        "#Initial Try with desicion trees\n",
        "classifier = KNeighborsClassifier()\n",
        "\n",
        "gd_sr = GridSearchCV(estimator=classifier,  \n",
        "                     param_grid=param_grid,\n",
        "                     scoring='accuracy',\n",
        "                     cv=10)\n",
        "gd_sr.fit(x_train, y_train) "
      ],
      "execution_count": 0,
      "outputs": [
        {
          "output_type": "stream",
          "text": [
            "{'n_neighbors': [10, 11, 12, 13, 14, 15, 16, 17, 18, 19, 20, 21, 22, 23, 24, 25, 26, 27, 28, 29, 30, 31, 32, 33, 34]}\n"
          ],
          "name": "stdout"
        },
        {
          "output_type": "execute_result",
          "data": {
            "text/plain": [
              "GridSearchCV(cv=10, error_score='raise-deprecating',\n",
              "       estimator=KNeighborsClassifier(algorithm='auto', leaf_size=30, metric='minkowski',\n",
              "           metric_params=None, n_jobs=None, n_neighbors=5, p=2,\n",
              "           weights='uniform'),\n",
              "       fit_params=None, iid='warn', n_jobs=None,\n",
              "       param_grid={'n_neighbors': [10, 11, 12, 13, 14, 15, 16, 17, 18, 19, 20, 21, 22, 23, 24, 25, 26, 27, 28, 29, 30, 31, 32, 33, 34]},\n",
              "       pre_dispatch='2*n_jobs', refit=True, return_train_score='warn',\n",
              "       scoring='accuracy', verbose=0)"
            ]
          },
          "metadata": {
            "tags": []
          },
          "execution_count": 20
        }
      ]
    },
    {
      "metadata": {
        "id": "swfzYxowoN4W",
        "colab_type": "code",
        "outputId": "6f7ca0f5-9a9f-44b6-9e78-25b431d65b68",
        "colab": {
          "base_uri": "https://localhost:8080/",
          "height": 34
        }
      },
      "cell_type": "code",
      "source": [
        "print(\"Neighbors: %d\\tScore: %.2f\"%(gd_sr.best_params_['n_neighbors'],gd_sr.best_score_))"
      ],
      "execution_count": 0,
      "outputs": [
        {
          "output_type": "stream",
          "text": [
            "Neighbors: 30\tScore: 0.79\n"
          ],
          "name": "stdout"
        }
      ]
    },
    {
      "metadata": {
        "id": "v3wN6sLTEJNl",
        "colab_type": "code",
        "colab": {}
      },
      "cell_type": "code",
      "source": [
        "from sklearn.neighbors import KNeighborsClassifier\n",
        "from sklearn.metrics import accuracy_score\n",
        "param_grid = {'n_neighbors': list(range(1,28)) }#list(range(10,35))}\n",
        "#Initial Try with desicion trees\n",
        "classifier = KNeighborsClassifier(n_neighbors=30)\n",
        "classifier.fit(x_train, y_train)  \n",
        "y_pred = classifier.predict(x_test)\n",
        "print(\"Accuracy: %.3f\"%accuracy_score(y_test,y_pred))"
      ],
      "execution_count": 0,
      "outputs": []
    },
    {
      "metadata": {
        "id": "7NLW3fCupsRs",
        "colab_type": "text"
      },
      "cell_type": "markdown",
      "source": [
        "### X Version 3"
      ]
    },
    {
      "metadata": {
        "id": "h5f78oTPpvlJ",
        "colab_type": "code",
        "outputId": "3b47710b-6627-4d84-c873-e326817fa7a8",
        "colab": {
          "base_uri": "https://localhost:8080/",
          "height": 188
        }
      },
      "cell_type": "code",
      "source": [
        "from sklearn.neighbors import KNeighborsClassifier\n",
        "from sklearn.model_selection import GridSearchCV\n",
        "from sklearn.model_selection import train_test_split\n",
        "x_train, x_test, y_train, y_test = train_test_split(x_version3, y, test_size=0.2, random_state=1)\n",
        "param_grid = {'n_neighbors': list(range(10,35))}\n",
        "print(param_grid)\n",
        "#Initial Try with desicion trees\n",
        "classifier = KNeighborsClassifier()\n",
        "\n",
        "gd_sr = GridSearchCV(estimator=classifier,  \n",
        "                     param_grid=param_grid,\n",
        "                     scoring='accuracy',\n",
        "                     cv=10)\n",
        "gd_sr.fit(x_train, y_train) "
      ],
      "execution_count": 0,
      "outputs": [
        {
          "output_type": "stream",
          "text": [
            "{'n_neighbors': [10, 11, 12, 13, 14, 15, 16, 17, 18, 19, 20, 21, 22, 23, 24, 25, 26, 27, 28, 29, 30, 31, 32, 33, 34]}\n"
          ],
          "name": "stdout"
        },
        {
          "output_type": "execute_result",
          "data": {
            "text/plain": [
              "GridSearchCV(cv=10, error_score='raise-deprecating',\n",
              "       estimator=KNeighborsClassifier(algorithm='auto', leaf_size=30, metric='minkowski',\n",
              "           metric_params=None, n_jobs=None, n_neighbors=5, p=2,\n",
              "           weights='uniform'),\n",
              "       fit_params=None, iid='warn', n_jobs=None,\n",
              "       param_grid={'n_neighbors': [10, 11, 12, 13, 14, 15, 16, 17, 18, 19, 20, 21, 22, 23, 24, 25, 26, 27, 28, 29, 30, 31, 32, 33, 34]},\n",
              "       pre_dispatch='2*n_jobs', refit=True, return_train_score='warn',\n",
              "       scoring='accuracy', verbose=0)"
            ]
          },
          "metadata": {
            "tags": []
          },
          "execution_count": 45
        }
      ]
    },
    {
      "metadata": {
        "id": "RLajUwGppxs6",
        "colab_type": "code",
        "outputId": "e6cb246c-c89c-423b-d618-1aad1f5e6f83",
        "colab": {
          "base_uri": "https://localhost:8080/",
          "height": 34
        }
      },
      "cell_type": "code",
      "source": [
        "print(\"Neighbors: %d\\tScore: %.2f\"%(gd_sr.best_params_['n_neighbors'],gd_sr.best_score_))"
      ],
      "execution_count": 0,
      "outputs": [
        {
          "output_type": "stream",
          "text": [
            "Neighbors: 33\tScore: 0.81\n"
          ],
          "name": "stdout"
        }
      ]
    },
    {
      "metadata": {
        "id": "65tTnDYtD8Sg",
        "colab_type": "code",
        "colab": {}
      },
      "cell_type": "code",
      "source": [
        "from sklearn.neighbors import KNeighborsClassifier\n",
        "from sklearn.metrics import accuracy_score\n",
        "param_grid = {'n_neighbors': list(range(1,28)) }#list(range(10,35))}\n",
        "#Initial Try with desicion trees\n",
        "classifier = KNeighborsClassifier(n_neighbors=33)\n",
        "classifier.fit(x_train, y_train)  \n",
        "y_pred = classifier.predict(x_test)\n",
        "print(\"Accuracy: %.3f\"%accuracy_score(y_test,y_pred))"
      ],
      "execution_count": 0,
      "outputs": []
    },
    {
      "metadata": {
        "id": "RePFo-3WqPS0",
        "colab_type": "text"
      },
      "cell_type": "markdown",
      "source": [
        "## SVM"
      ]
    },
    {
      "metadata": {
        "id": "35b1CB2hqtlO",
        "colab_type": "text"
      },
      "cell_type": "markdown",
      "source": [
        "### Non Modified X"
      ]
    },
    {
      "metadata": {
        "id": "8v99-SDZqOBA",
        "colab_type": "code",
        "colab": {}
      },
      "cell_type": "code",
      "source": [
        "from sklearn.model_selection import GridSearchCV  \n",
        "from sklearn.svm import SVC\n",
        "from sklearn.model_selection import train_test_split\n",
        "classifier = SVC()\n",
        "x_train, x_test, y_train, y_test = train_test_split(x, y, test_size=0.2, random_state=1)\n",
        "param_grid = {'kernel':['linear', 'rbf'],'C': [0.001, 0.01, 0.1, 1, 10], 'gamma' : [0.001, 0.01, 0.1, 1]}\n",
        "grid_search = GridSearchCV(classifier, param_grid, cv=5)\n",
        "grid_search.fit(x_train, y_train) \n",
        "grid_search.best_params_"
      ],
      "execution_count": 0,
      "outputs": []
    },
    {
      "metadata": {
        "id": "n9hocqCHDxyz",
        "colab_type": "code",
        "colab": {}
      },
      "cell_type": "code",
      "source": [
        "print(\"Parameters: %s\\t Best Score: %.2f\"%(grid_search.best_params_,grid_search.best_score_))"
      ],
      "execution_count": 0,
      "outputs": []
    },
    {
      "metadata": {
        "id": "vFmdSuUmDzcS",
        "colab_type": "code",
        "colab": {}
      },
      "cell_type": "code",
      "source": [
        "from sklearn.metrics import accuracy_score\n",
        "from sklearn.svm import SVC\n",
        "classifier = SVC()\n",
        "classifier.fit(x_train, y_train)  \n",
        "y_pred = classifier.predict(x_test)\n",
        "print(\"Accuracy: %.3f\"%accuracy_score(y_test,y_pred))"
      ],
      "execution_count": 0,
      "outputs": []
    },
    {
      "metadata": {
        "id": "bke1V1ZvCp0D",
        "colab_type": "text"
      },
      "cell_type": "markdown",
      "source": [
        "### X Version 1"
      ]
    },
    {
      "metadata": {
        "id": "YHewgBSyCsMj",
        "colab_type": "code",
        "colab": {}
      },
      "cell_type": "code",
      "source": [
        "from sklearn.model_selection import GridSearchCV  \n",
        "from sklearn.svm import SVC\n",
        "from sklearn.model_selection import train_test_split\n",
        "classifier = SVC()\n",
        "x_train, x_test, y_train, y_test = train_test_split(x_version1, y, test_size=0.2, random_state=1)\n",
        "param_grid = {'kernel':['linear', 'rbf'],'C': [0.001, 0.01, 0.1, 1, 10], 'gamma' : [0.001, 0.01, 0.1, 1]}\n",
        "grid_search = GridSearchCV(classifier, param_grid, cv=5)\n",
        "grid_search.fit(x_train, y_train) \n",
        "grid_search.best_params_"
      ],
      "execution_count": 0,
      "outputs": []
    },
    {
      "metadata": {
        "id": "7JwOohMyDsb3",
        "colab_type": "code",
        "colab": {}
      },
      "cell_type": "code",
      "source": [
        "print(\"Parameters: %s\\t Best Score: %.2f\"%(grid_search.best_params_,grid_search.best_score_))"
      ],
      "execution_count": 0,
      "outputs": []
    },
    {
      "metadata": {
        "id": "oNjfHcMqDrUa",
        "colab_type": "code",
        "colab": {}
      },
      "cell_type": "code",
      "source": [
        "from sklearn.metrics import accuracy_score\n",
        "from sklearn.svm import SVC\n",
        "classifier = SVC()\n",
        "classifier.fit(x_train, y_train)  \n",
        "y_pred = classifier.predict(x_test)\n",
        "print(\"Accuracy: %.3f\"%accuracy_score(y_test,y_pred))"
      ],
      "execution_count": 0,
      "outputs": []
    },
    {
      "metadata": {
        "id": "mcJqr47vCz_J",
        "colab_type": "text"
      },
      "cell_type": "markdown",
      "source": [
        "### X Version 2"
      ]
    },
    {
      "metadata": {
        "id": "79n-tcdeC2Ew",
        "colab_type": "code",
        "colab": {}
      },
      "cell_type": "code",
      "source": [
        "from sklearn.model_selection import GridSearchCV  \n",
        "from sklearn.svm import SVC\n",
        "from sklearn.model_selection import train_test_split\n",
        "classifier = SVC()\n",
        "x_train, x_test, y_train, y_test = train_test_split(x_version2, y, test_size=0.2, random_state=1)\n",
        "param_grid = {'kernel':['linear', 'rbf'],'C': [0.001, 0.01, 0.1, 1, 10], 'gamma' : [0.001, 0.01, 0.1, 1]}\n",
        "grid_search = GridSearchCV(classifier, param_grid, cv=5)\n",
        "grid_search.fit(x_train, y_train) \n",
        "grid_search.best_params_"
      ],
      "execution_count": 0,
      "outputs": []
    },
    {
      "metadata": {
        "id": "Eboq4f0cDejT",
        "colab_type": "code",
        "colab": {}
      },
      "cell_type": "code",
      "source": [
        "print(\"Parameters: %s\\t Best Score: %.2f\"%(grid_search.best_params_,grid_search.best_score_))"
      ],
      "execution_count": 0,
      "outputs": []
    },
    {
      "metadata": {
        "id": "hiXKwiPKDf4b",
        "colab_type": "code",
        "colab": {}
      },
      "cell_type": "code",
      "source": [
        "from sklearn.metrics import accuracy_score\n",
        "from sklearn.svm import SVC\n",
        "classifier = SVC()\n",
        "classifier.fit(x_train, y_train)  \n",
        "y_pred = classifier.predict(x_test)\n",
        "print(\"Accuracy: %.3f\"%accuracy_score(y_test,y_pred))"
      ],
      "execution_count": 0,
      "outputs": []
    },
    {
      "metadata": {
        "id": "rHbEwh1_C45d",
        "colab_type": "text"
      },
      "cell_type": "markdown",
      "source": [
        "### X Version 3\n"
      ]
    },
    {
      "metadata": {
        "id": "Hur3IVq2C75F",
        "colab_type": "code",
        "colab": {}
      },
      "cell_type": "code",
      "source": [
        "from sklearn.model_selection import GridSearchCV  \n",
        "from sklearn.svm import SVC\n",
        "from sklearn.model_selection import train_test_split\n",
        "classifier = SVC()\n",
        "x_train, x_test, y_train, y_test = train_test_split(x_version3, y, test_size=0.2, random_state=1)\n",
        "param_grid = {'kernel':['linear', 'rbf'],'C': [0.001, 0.01, 0.1, 1, 10], 'gamma' : [0.001, 0.01, 0.1, 1]}\n",
        "grid_search = GridSearchCV(classifier, param_grid, cv=5)\n",
        "grid_search.fit(x_train, y_train) \n",
        "grid_search.best_params_"
      ],
      "execution_count": 0,
      "outputs": []
    },
    {
      "metadata": {
        "id": "4QTDqIMlDIAu",
        "colab_type": "code",
        "colab": {}
      },
      "cell_type": "code",
      "source": [
        "print(\"Parameters: %s\\t Best Score: %.2f\"%(grid_search.best_params_,grid_search.best_score_))"
      ],
      "execution_count": 0,
      "outputs": []
    },
    {
      "metadata": {
        "id": "TQrVdP8wDIJd",
        "colab_type": "code",
        "colab": {}
      },
      "cell_type": "code",
      "source": [
        "from sklearn.metrics import accuracy_score\n",
        "from sklearn.svm import SVC\n",
        "classifier = SVC()\n",
        "classifier.fit(x_train, y_train)  \n",
        "y_pred = classifier.predict(x_test)\n",
        "print(\"Accuracy: %.3f\"%accuracy_score(y_test,y_pred))"
      ],
      "execution_count": 0,
      "outputs": []
    },
    {
      "metadata": {
        "id": "7uoNhyWvRLoP",
        "colab_type": "text"
      },
      "cell_type": "markdown",
      "source": [
        "## Logistic Regression"
      ]
    },
    {
      "metadata": {
        "id": "BwkM2Sf0R2-v",
        "colab_type": "text"
      },
      "cell_type": "markdown",
      "source": [
        "**I made solver 'liblinear' because it is default and when I omit that, it gives many warnings in the output**"
      ]
    },
    {
      "metadata": {
        "id": "KFPlARJxRSv7",
        "colab_type": "text"
      },
      "cell_type": "markdown",
      "source": [
        "### Non-Modified X"
      ]
    },
    {
      "metadata": {
        "id": "PwPDh72MRUqz",
        "colab_type": "code",
        "outputId": "c9a5f058-372a-4d35-f153-74aff92fdf5a",
        "colab": {
          "base_uri": "https://localhost:8080/",
          "height": 34
        }
      },
      "cell_type": "code",
      "source": [
        "from sklearn.model_selection import GridSearchCV  \n",
        "from sklearn.linear_model import LogisticRegression\n",
        "from sklearn.model_selection import train_test_split\n",
        "x_train, x_test, y_train, y_test = train_test_split(x, y, test_size=0.2, random_state=1)\n",
        "param_grid={\"C\":np.logspace(-3,3,7), \"penalty\":[\"l1\",\"l2\"]}# l1 lasso l2 ridge\n",
        "classifier=LogisticRegression(solver='liblinear')\n",
        "grid_search=GridSearchCV(classifier,param_grid,cv=10)\n",
        "grid_search.fit(x_train,y_train)\n",
        "grid_search.best_params_"
      ],
      "execution_count": 0,
      "outputs": [
        {
          "output_type": "execute_result",
          "data": {
            "text/plain": [
              "{'C': 1.0, 'penalty': 'l1'}"
            ]
          },
          "metadata": {
            "tags": []
          },
          "execution_count": 47
        }
      ]
    },
    {
      "metadata": {
        "id": "4LN4oTMRLfmx",
        "colab_type": "code",
        "outputId": "26c6b4f2-6127-41cf-9796-e6d2886cbaad",
        "colab": {
          "base_uri": "https://localhost:8080/",
          "height": 34
        }
      },
      "cell_type": "code",
      "source": [
        "print(\"Parameters: %s\\t Best Score: %.2f\"%(grid_search.best_params_,grid_search.best_score_))"
      ],
      "execution_count": 0,
      "outputs": [
        {
          "output_type": "stream",
          "text": [
            "Parameters: {'C': 1.0, 'penalty': 'l1'}\t Best Score: 0.84\n"
          ],
          "name": "stdout"
        }
      ]
    },
    {
      "metadata": {
        "id": "56JxcYB1LzTu",
        "colab_type": "code",
        "outputId": "9905d2ed-5539-4b10-9ec3-935c669418d8",
        "colab": {
          "base_uri": "https://localhost:8080/",
          "height": 34
        }
      },
      "cell_type": "code",
      "source": [
        "from sklearn.metrics import accuracy_score\n",
        "from sklearn.linear_model import LogisticRegression\n",
        "classifier = LogisticRegression(solver='liblinear',C=1,penalty='l1')\n",
        "classifier.fit(x_train, y_train)  \n",
        "y_pred = classifier.predict(x_test)\n",
        "print(\"Accuracy: %.3f\"%accuracy_score(y_test,y_pred))"
      ],
      "execution_count": 0,
      "outputs": [
        {
          "output_type": "stream",
          "text": [
            "Accuracy: 0.845\n"
          ],
          "name": "stdout"
        }
      ]
    },
    {
      "metadata": {
        "id": "E8XCQjLCSMcp",
        "colab_type": "text"
      },
      "cell_type": "markdown",
      "source": [
        "### X Version 1"
      ]
    },
    {
      "metadata": {
        "id": "YDD5CZsDSLsd",
        "colab_type": "code",
        "outputId": "97308f35-5821-49b3-baca-c5dc2fd42b5b",
        "colab": {
          "base_uri": "https://localhost:8080/",
          "height": 34
        }
      },
      "cell_type": "code",
      "source": [
        "from sklearn.model_selection import GridSearchCV  \n",
        "from sklearn.linear_model import LogisticRegression\n",
        "from sklearn.model_selection import train_test_split\n",
        "x_train, x_test, y_train, y_test = train_test_split(x_version1, y, test_size=0.2, random_state=1)\n",
        "param_grid={\"C\":np.logspace(-3,3,7), \"penalty\":[\"l1\",\"l2\"]}# l1 lasso l2 ridge\n",
        "classifier=LogisticRegression(solver='liblinear')\n",
        "grid_search=GridSearchCV(classifier,param_grid,cv=10)\n",
        "grid_search.fit(x_train,y_train)\n",
        "grid_search.best_params_"
      ],
      "execution_count": 0,
      "outputs": [
        {
          "output_type": "execute_result",
          "data": {
            "text/plain": [
              "{'C': 0.001, 'penalty': 'l1'}"
            ]
          },
          "metadata": {
            "tags": []
          },
          "execution_count": 46
        }
      ]
    },
    {
      "metadata": {
        "id": "kaC0h3mBMpJq",
        "colab_type": "code",
        "outputId": "2ac701b8-beb4-4ac3-ccdc-1886e8d54baa",
        "colab": {
          "base_uri": "https://localhost:8080/",
          "height": 34
        }
      },
      "cell_type": "code",
      "source": [
        "from sklearn.metrics import accuracy_score\n",
        "from sklearn.linear_model import LogisticRegression\n",
        "classifier = LogisticRegression(solver='liblinear',C=0.001,penalty='l1')\n",
        "classifier.fit(x_train, y_train)  \n",
        "y_pred = classifier.predict(x_test)\n",
        "print(\"Accuracy: %.3f\"%accuracy_score(y_test,y_pred))"
      ],
      "execution_count": 0,
      "outputs": [
        {
          "output_type": "stream",
          "text": [
            "Accuracy: 0.759\n"
          ],
          "name": "stdout"
        }
      ]
    },
    {
      "metadata": {
        "id": "lhHyvHeTSUpM",
        "colab_type": "text"
      },
      "cell_type": "markdown",
      "source": [
        "### X Version 2"
      ]
    },
    {
      "metadata": {
        "id": "W5mABthJSRBc",
        "colab_type": "code",
        "outputId": "6a569546-cd36-4e0b-8feb-5833c6ee2df9",
        "colab": {
          "base_uri": "https://localhost:8080/",
          "height": 34
        }
      },
      "cell_type": "code",
      "source": [
        "from sklearn.model_selection import GridSearchCV  \n",
        "from sklearn.linear_model import LogisticRegression\n",
        "from sklearn.model_selection import train_test_split\n",
        "x_train, x_test, y_train, y_test = train_test_split(x_version2, y, test_size=0.2, random_state=1)\n",
        "param_grid={\"C\":np.logspace(-3,3,7), \"penalty\":[\"l1\",\"l2\"]}# l1 lasso l2 ridge\n",
        "classifier=LogisticRegression(solver='liblinear')\n",
        "grid_search=GridSearchCV(classifier,param_grid,cv=10)\n",
        "grid_search.fit(x_train,y_train)\n",
        "grid_search.best_params_"
      ],
      "execution_count": 0,
      "outputs": [
        {
          "output_type": "execute_result",
          "data": {
            "text/plain": [
              "{'C': 100.0, 'penalty': 'l2'}"
            ]
          },
          "metadata": {
            "tags": []
          },
          "execution_count": 45
        }
      ]
    },
    {
      "metadata": {
        "id": "ayF88CdYM8QF",
        "colab_type": "code",
        "outputId": "0ebc3f15-a1fa-458f-fe43-68036909c5be",
        "colab": {
          "base_uri": "https://localhost:8080/",
          "height": 34
        }
      },
      "cell_type": "code",
      "source": [
        "from sklearn.metrics import accuracy_score\n",
        "from sklearn.linear_model import LogisticRegression\n",
        "classifier = LogisticRegression(solver='liblinear',C=100,penalty='l2')\n",
        "classifier.fit(x_train, y_train)  \n",
        "y_pred = classifier.predict(x_test)\n",
        "print(\"Accuracy: %.3f\"%accuracy_score(y_test,y_pred))"
      ],
      "execution_count": 0,
      "outputs": [
        {
          "output_type": "stream",
          "text": [
            "Accuracy: 0.814\n"
          ],
          "name": "stdout"
        }
      ]
    },
    {
      "metadata": {
        "id": "_MsY6IgaSXTw",
        "colab_type": "text"
      },
      "cell_type": "markdown",
      "source": [
        "### X Version 3"
      ]
    },
    {
      "metadata": {
        "id": "FjduD3YaSShi",
        "colab_type": "code",
        "outputId": "605bedd5-4cbb-4ce9-f7fb-bb5b84816929",
        "colab": {
          "base_uri": "https://localhost:8080/",
          "height": 34
        }
      },
      "cell_type": "code",
      "source": [
        "from sklearn.model_selection import GridSearchCV  \n",
        "from sklearn.linear_model import LogisticRegression\n",
        "from sklearn.model_selection import train_test_split\n",
        "x_train, x_test, y_train, y_test = train_test_split(x_version3, y, test_size=0.2, random_state=1)\n",
        "param_grid={\"C\":np.logspace(-3,3,7), \"penalty\":[\"l1\",\"l2\"]}# l1 lasso l2 ridge\n",
        "classifier=LogisticRegression(solver='liblinear')\n",
        "grid_search=GridSearchCV(classifier,param_grid,cv=10)\n",
        "grid_search.fit(x_train,y_train)\n",
        "grid_search.best_params_"
      ],
      "execution_count": 0,
      "outputs": [
        {
          "output_type": "execute_result",
          "data": {
            "text/plain": [
              "{'C': 0.001, 'penalty': 'l2'}"
            ]
          },
          "metadata": {
            "tags": []
          },
          "execution_count": 44
        }
      ]
    },
    {
      "metadata": {
        "id": "uNSeOjW7Axvj",
        "colab_type": "code",
        "outputId": "eff9171e-5ce5-4be1-c465-32bc9be56776",
        "colab": {
          "base_uri": "https://localhost:8080/",
          "height": 34
        }
      },
      "cell_type": "code",
      "source": [
        "from sklearn.metrics import accuracy_score\n",
        "from sklearn.linear_model import LogisticRegression\n",
        "classifier = LogisticRegression(solver='liblinear',C=0.001,penalty='l2')\n",
        "classifier.fit(x_train, y_train)  \n",
        "y_pred = classifier.predict(x_test)\n",
        "print(\"Accuracy: %.3f\"%accuracy_score(y_test,y_pred))"
      ],
      "execution_count": 0,
      "outputs": [
        {
          "output_type": "stream",
          "text": [
            "Accuracy: 0.799\n"
          ],
          "name": "stdout"
        }
      ]
    },
    {
      "metadata": {
        "id": "HxElNN4z1Ybv",
        "colab_type": "text"
      },
      "cell_type": "markdown",
      "source": [
        "##Decision Tree"
      ]
    },
    {
      "metadata": {
        "id": "ZKq7Ak-O2OrD",
        "colab_type": "code",
        "colab": {}
      },
      "cell_type": "code",
      "source": [
        "depths = np.arange(1, 21)\n",
        "num_leafs = [1, 5, 10, 20, 50, 100]\n",
        "param_grid =  [{'max_depth':depths,\n",
        "              'min_samples_leaf':num_leafs}]"
      ],
      "execution_count": 0,
      "outputs": []
    },
    {
      "metadata": {
        "id": "Xf31a9fl1c_D",
        "colab_type": "text"
      },
      "cell_type": "markdown",
      "source": [
        "### Non-Modified X"
      ]
    },
    {
      "metadata": {
        "id": "s_WSyhPW2gMO",
        "colab_type": "code",
        "outputId": "643c5841-bc62-47eb-8f4e-cc922436a681",
        "colab": {
          "base_uri": "https://localhost:8080/",
          "height": 34
        }
      },
      "cell_type": "code",
      "source": [
        "from sklearn.model_selection import GridSearchCV  \n",
        "from sklearn.tree import DecisionTreeClassifier\n",
        "from sklearn.model_selection import train_test_split\n",
        "x_train, x_test, y_train, y_test = train_test_split(x, y, test_size=0.2, random_state=1)\n",
        "classifier=DecisionTreeClassifier()\n",
        "grid_search=GridSearchCV(classifier,param_grid,cv=10)\n",
        "grid_search.fit(x_train,y_train)\n",
        "grid_search.best_params_"
      ],
      "execution_count": 0,
      "outputs": [
        {
          "output_type": "execute_result",
          "data": {
            "text/plain": [
              "{'max_depth': 11, 'min_samples_leaf': 10}"
            ]
          },
          "metadata": {
            "tags": []
          },
          "execution_count": 28
        }
      ]
    },
    {
      "metadata": {
        "id": "U1e_K6ZV7HQx",
        "colab_type": "code",
        "outputId": "58766e29-c741-4e74-f242-aa852c86a9e0",
        "colab": {
          "base_uri": "https://localhost:8080/",
          "height": 34
        }
      },
      "cell_type": "code",
      "source": [
        "from sklearn.metrics import accuracy_score\n",
        "from sklearn.tree import DecisionTreeClassifier\n",
        "classifier=DecisionTreeClassifier(max_depth= 11, min_samples_leaf= 10)\n",
        "classifier.fit(x_train, y_train)  \n",
        "y_pred = classifier.predict(x_test)\n",
        "print(\"Accuracy: %.3f\"%accuracy_score(y_test,y_pred))"
      ],
      "execution_count": 0,
      "outputs": [
        {
          "output_type": "stream",
          "text": [
            "Accuracy: 0.861\n"
          ],
          "name": "stdout"
        }
      ]
    },
    {
      "metadata": {
        "id": "8A0400xA1nzk",
        "colab_type": "text"
      },
      "cell_type": "markdown",
      "source": [
        "### X Version 1"
      ]
    },
    {
      "metadata": {
        "id": "rhStsYjw2xoE",
        "colab_type": "code",
        "outputId": "72d8f916-d29e-4466-a099-c1452a3a427e",
        "colab": {
          "base_uri": "https://localhost:8080/",
          "height": 34
        }
      },
      "cell_type": "code",
      "source": [
        "from sklearn.model_selection import GridSearchCV  \n",
        "from sklearn.tree import DecisionTreeClassifier\n",
        "from sklearn.model_selection import train_test_split\n",
        "x_train, x_test, y_train, y_test = train_test_split(x_version1, y, test_size=0.2, random_state=1)\n",
        "classifier=DecisionTreeClassifier()\n",
        "grid_search=GridSearchCV(classifier,param_grid,cv=10)\n",
        "grid_search.fit(x_train,y_train)\n",
        "grid_search.best_params_"
      ],
      "execution_count": 0,
      "outputs": [
        {
          "output_type": "execute_result",
          "data": {
            "text/plain": [
              "{'max_depth': 11, 'min_samples_leaf': 100}"
            ]
          },
          "metadata": {
            "tags": []
          },
          "execution_count": 30
        }
      ]
    },
    {
      "metadata": {
        "id": "VCG5mL6l7VeA",
        "colab_type": "code",
        "outputId": "5f182587-0ffb-4580-818b-a5762caa2bae",
        "colab": {
          "base_uri": "https://localhost:8080/",
          "height": 34
        }
      },
      "cell_type": "code",
      "source": [
        "from sklearn.metrics import accuracy_score\n",
        "from sklearn.tree import DecisionTreeClassifier\n",
        "classifier=DecisionTreeClassifier(max_depth= 11, min_samples_leaf= 100)\n",
        "classifier.fit(x_train, y_train)  \n",
        "y_pred = classifier.predict(x_test)\n",
        "print(\"Accuracy: %.3f\"%accuracy_score(y_test,y_pred))"
      ],
      "execution_count": 0,
      "outputs": [
        {
          "output_type": "stream",
          "text": [
            "Accuracy: 0.828\n"
          ],
          "name": "stdout"
        }
      ]
    },
    {
      "metadata": {
        "id": "_k9tiDFR1qoU",
        "colab_type": "text"
      },
      "cell_type": "markdown",
      "source": [
        "### X Version 2"
      ]
    },
    {
      "metadata": {
        "id": "CUR2YAUZ27dG",
        "colab_type": "code",
        "outputId": "21184aaa-62d5-4ffd-8f6a-d226b652ae84",
        "colab": {
          "base_uri": "https://localhost:8080/",
          "height": 34
        }
      },
      "cell_type": "code",
      "source": [
        "from sklearn.model_selection import GridSearchCV  \n",
        "from sklearn.tree import DecisionTreeClassifier\n",
        "from sklearn.model_selection import train_test_split\n",
        "x_train, x_test, y_train, y_test = train_test_split(x_version2, y, test_size=0.2, random_state=1)\n",
        "classifier=DecisionTreeClassifier()\n",
        "grid_search=GridSearchCV(classifier,param_grid,cv=10)\n",
        "grid_search.fit(x_train,y_train)\n",
        "grid_search.best_params_"
      ],
      "execution_count": 0,
      "outputs": [
        {
          "output_type": "execute_result",
          "data": {
            "text/plain": [
              "{'max_depth': 7, 'min_samples_leaf': 20}"
            ]
          },
          "metadata": {
            "tags": []
          },
          "execution_count": 18
        }
      ]
    },
    {
      "metadata": {
        "id": "m-X_jf1DMFlE",
        "colab_type": "code",
        "outputId": "17be91dc-2ff0-4b91-ab9f-58367c8a0e63",
        "colab": {
          "base_uri": "https://localhost:8080/",
          "height": 34
        }
      },
      "cell_type": "code",
      "source": [
        "from sklearn.metrics import accuracy_score\n",
        "from sklearn.tree import DecisionTreeClassifier\n",
        "classifier=DecisionTreeClassifier(max_depth= 7, min_samples_leaf= 20)\n",
        "classifier.fit(x_train, y_train)  \n",
        "y_pred = classifier.predict(x_test)\n",
        "print(\"Accuracy: %.3f\"%accuracy_score(y_test,y_pred))"
      ],
      "execution_count": 0,
      "outputs": [
        {
          "output_type": "stream",
          "text": [
            "Accuracy: 0.828\n"
          ],
          "name": "stdout"
        }
      ]
    },
    {
      "metadata": {
        "id": "eLqdq0OC1rml",
        "colab_type": "text"
      },
      "cell_type": "markdown",
      "source": [
        "### X Version 3"
      ]
    },
    {
      "metadata": {
        "id": "fIcQDSWe29ft",
        "colab_type": "code",
        "outputId": "fa4ce5a0-2ba0-40ff-9be1-4eccbe751671",
        "colab": {
          "base_uri": "https://localhost:8080/",
          "height": 34
        }
      },
      "cell_type": "code",
      "source": [
        "from sklearn.model_selection import GridSearchCV  \n",
        "from sklearn.tree import DecisionTreeClassifier\n",
        "from sklearn.model_selection import train_test_split\n",
        "x_train, x_test, y_train, y_test = train_test_split(x_version3, y, test_size=0.2, random_state=1)\n",
        "classifier=DecisionTreeClassifier()\n",
        "grid_search=GridSearchCV(classifier,param_grid,cv=10)\n",
        "grid_search.fit(x_train,y_train)\n",
        "grid_search.best_params_"
      ],
      "execution_count": 0,
      "outputs": [
        {
          "output_type": "execute_result",
          "data": {
            "text/plain": [
              "{'max_depth': 8, 'min_samples_leaf': 20}"
            ]
          },
          "metadata": {
            "tags": []
          },
          "execution_count": 20
        }
      ]
    },
    {
      "metadata": {
        "id": "Q-7VilbMZNUn",
        "colab_type": "code",
        "outputId": "377fbdf4-39a8-4a99-9a49-f01d2afcda5d",
        "colab": {
          "base_uri": "https://localhost:8080/",
          "height": 34
        }
      },
      "cell_type": "code",
      "source": [
        "from sklearn.metrics import accuracy_score\n",
        "from sklearn.tree import DecisionTreeClassifier\n",
        "classifier=DecisionTreeClassifier(max_depth= 8, min_samples_leaf= 20)\n",
        "classifier.fit(x_train, y_train)  \n",
        "y_pred = classifier.predict(x_test)\n",
        "print(\"Accuracy: %.3f\"%accuracy_score(y_test,y_pred))"
      ],
      "execution_count": 0,
      "outputs": [
        {
          "output_type": "stream",
          "text": [
            "Accuracy: 0.828\n"
          ],
          "name": "stdout"
        }
      ]
    },
    {
      "metadata": {
        "id": "tPJg_pPa_AqI",
        "colab_type": "text"
      },
      "cell_type": "markdown",
      "source": [
        "# Preprocessing with Dummy Variables"
      ]
    },
    {
      "metadata": {
        "id": "Dl13nUGVR50g",
        "colab_type": "text"
      },
      "cell_type": "markdown",
      "source": [
        "In addition to the method I used for the categorical values in the previous part. I have also converted the categorical data  to dummy variables by using get_dummies method of pandas library."
      ]
    },
    {
      "metadata": {
        "id": "LWGHkOGR_PGw",
        "colab_type": "code",
        "outputId": "363db38e-b532-409a-b9e8-e07ef56e355f",
        "colab": {
          "base_uri": "https://localhost:8080/",
          "height": 815
        }
      },
      "cell_type": "code",
      "source": [
        "dimension = df_v2.shape\n",
        "\"\"\"\n",
        "#Column Information Retrieval\n",
        "for j in range(dimension[1]):\n",
        "  print(df[df.columns[j]].describe())\n",
        "  print(\"--------------------\")\n",
        "#NA Value Information Retrieval\n",
        "print(\"----Number of NA's-------\")\n",
        "for j in range(dimension[1]):\n",
        "     #print(df.columns[j],df.iloc[:,j].isnull().values.ravel().sum())\n",
        "     print(\"%s:%.2f%%\"%(df.columns[j],(df.iloc[:,j].isnull().values.ravel().sum()/len(df.iloc[:,j].values)*100.0)))\n",
        "\"\"\"\n",
        "#Missing value handling and check\n",
        "for j in df_v2.columns:\n",
        "  if df_v2[j].dtype.name=='object':\n",
        "    df_v2[j].fillna(df_v2[j].mode()[0],inplace=True)\n",
        "  else:\n",
        "    df_v2[j].fillna(df_v2[j].mean(),inplace=True)\n",
        "df_v2.head()\n",
        "\n",
        "print(\"----Number of NA's-------\")\n",
        "for j in range(dimension[1]):\n",
        "     #print(df.columns[j],df.iloc[:,j].isnull().values.ravel().sum())\n",
        "     print(\"%s:%.2f%%\"%(df_v2.columns[j],(df_v2.iloc[:,j].isnull().values.ravel().sum()/len(df_v2.iloc[:,j].values)*100.0)))\n",
        "\n",
        "from sklearn.preprocessing import minmax_scale\n",
        "for i in df_v2.columns:\n",
        "  if df_v2[i].dtype.name != 'object':\n",
        "    # Fit your data on the scaler object\n",
        "     df_v2[i] = pd.DataFrame(minmax_scale(df_v2[i]))   \n",
        "#Convert categorical values to numeric\n",
        "\"\"\"\n",
        "#My code for dummies I used pandas version\n",
        "for i in df.columns:\n",
        "  if df[i].dtype.name == 'object':\n",
        "    if i != \"income\":\n",
        "      df = categorical_to_dumy(i,df)\n",
        "    else:\n",
        "      df[i] = categorical_to_numeric(i,df)\n",
        "df.head()\n",
        "\"\"\"\n",
        "df_v2 = pd.get_dummies(df_v2, columns=['workclass', 'education', 'marital.status', 'occupation', 'relationship', 'race', 'sex', 'native.country'], drop_first=True)\n",
        "df_v2[\"income\"] = categorical_to_numeric(\"income\",df_v2)\n",
        "df_v2.head()"
      ],
      "execution_count": 0,
      "outputs": [
        {
          "output_type": "stream",
          "text": [
            "----Number of NA's-------\n",
            "age:0.00%\n",
            "workclass:0.00%\n",
            "fnlwgt:0.00%\n",
            "education:0.00%\n",
            "education.num:0.00%\n",
            "marital.status:0.00%\n",
            "occupation:0.00%\n",
            "relationship:0.00%\n",
            "race:0.00%\n",
            "sex:0.00%\n",
            "capital.gain:0.00%\n",
            "capital.loss:0.00%\n",
            "hours.per.week:0.00%\n",
            "native.country:0.00%\n",
            "income:0.00%\n"
          ],
          "name": "stdout"
        },
        {
          "output_type": "stream",
          "text": [
            "/usr/local/lib/python3.6/dist-packages/sklearn/utils/validation.py:595: DataConversionWarning: Data with input dtype int64 was converted to float64.\n",
            "  warnings.warn(msg, DataConversionWarning)\n",
            "/usr/local/lib/python3.6/dist-packages/sklearn/utils/validation.py:595: DataConversionWarning: Data with input dtype int64 was converted to float64.\n",
            "  warnings.warn(msg, DataConversionWarning)\n",
            "/usr/local/lib/python3.6/dist-packages/sklearn/utils/validation.py:595: DataConversionWarning: Data with input dtype int64 was converted to float64.\n",
            "  warnings.warn(msg, DataConversionWarning)\n",
            "/usr/local/lib/python3.6/dist-packages/sklearn/utils/validation.py:595: DataConversionWarning: Data with input dtype int64 was converted to float64.\n",
            "  warnings.warn(msg, DataConversionWarning)\n",
            "/usr/local/lib/python3.6/dist-packages/sklearn/utils/validation.py:595: DataConversionWarning: Data with input dtype int64 was converted to float64.\n",
            "  warnings.warn(msg, DataConversionWarning)\n",
            "/usr/local/lib/python3.6/dist-packages/sklearn/utils/validation.py:595: DataConversionWarning: Data with input dtype int64 was converted to float64.\n",
            "  warnings.warn(msg, DataConversionWarning)\n",
            "/usr/local/lib/python3.6/dist-packages/sklearn/utils/validation.py:595: DataConversionWarning: Data with input dtype int64 was converted to float64.\n",
            "  warnings.warn(msg, DataConversionWarning)\n",
            "/usr/local/lib/python3.6/dist-packages/sklearn/utils/validation.py:595: DataConversionWarning: Data with input dtype int64 was converted to float64.\n",
            "  warnings.warn(msg, DataConversionWarning)\n",
            "/usr/local/lib/python3.6/dist-packages/sklearn/utils/validation.py:595: DataConversionWarning: Data with input dtype int64 was converted to float64.\n",
            "  warnings.warn(msg, DataConversionWarning)\n"
          ],
          "name": "stderr"
        },
        {
          "output_type": "execute_result",
          "data": {
            "text/html": [
              "<div>\n",
              "<style scoped>\n",
              "    .dataframe tbody tr th:only-of-type {\n",
              "        vertical-align: middle;\n",
              "    }\n",
              "\n",
              "    .dataframe tbody tr th {\n",
              "        vertical-align: top;\n",
              "    }\n",
              "\n",
              "    .dataframe thead th {\n",
              "        text-align: right;\n",
              "    }\n",
              "</style>\n",
              "<table border=\"1\" class=\"dataframe\">\n",
              "  <thead>\n",
              "    <tr style=\"text-align: right;\">\n",
              "      <th></th>\n",
              "      <th>age</th>\n",
              "      <th>fnlwgt</th>\n",
              "      <th>education.num</th>\n",
              "      <th>capital.gain</th>\n",
              "      <th>capital.loss</th>\n",
              "      <th>hours.per.week</th>\n",
              "      <th>income</th>\n",
              "      <th>workclass_0.14285714285714285</th>\n",
              "      <th>workclass_0.2857142857142857</th>\n",
              "      <th>workclass_0.42857142857142855</th>\n",
              "      <th>...</th>\n",
              "      <th>native.country_0.775</th>\n",
              "      <th>native.country_0.8</th>\n",
              "      <th>native.country_0.8250000000000001</th>\n",
              "      <th>native.country_0.8500000000000001</th>\n",
              "      <th>native.country_0.875</th>\n",
              "      <th>native.country_0.9</th>\n",
              "      <th>native.country_0.925</th>\n",
              "      <th>native.country_0.9500000000000001</th>\n",
              "      <th>native.country_0.9750000000000001</th>\n",
              "      <th>native.country_1.0</th>\n",
              "    </tr>\n",
              "  </thead>\n",
              "  <tbody>\n",
              "    <tr>\n",
              "      <th>0</th>\n",
              "      <td>1.000000</td>\n",
              "      <td>0.043987</td>\n",
              "      <td>0.533333</td>\n",
              "      <td>0.0</td>\n",
              "      <td>1.000000</td>\n",
              "      <td>0.397959</td>\n",
              "      <td>0</td>\n",
              "      <td>0</td>\n",
              "      <td>0</td>\n",
              "      <td>0</td>\n",
              "      <td>...</td>\n",
              "      <td>0</td>\n",
              "      <td>0</td>\n",
              "      <td>0</td>\n",
              "      <td>0</td>\n",
              "      <td>0</td>\n",
              "      <td>0</td>\n",
              "      <td>0</td>\n",
              "      <td>0</td>\n",
              "      <td>0</td>\n",
              "      <td>0</td>\n",
              "    </tr>\n",
              "    <tr>\n",
              "      <th>1</th>\n",
              "      <td>0.890411</td>\n",
              "      <td>0.081896</td>\n",
              "      <td>0.533333</td>\n",
              "      <td>0.0</td>\n",
              "      <td>1.000000</td>\n",
              "      <td>0.173469</td>\n",
              "      <td>0</td>\n",
              "      <td>0</td>\n",
              "      <td>0</td>\n",
              "      <td>0</td>\n",
              "      <td>...</td>\n",
              "      <td>0</td>\n",
              "      <td>0</td>\n",
              "      <td>0</td>\n",
              "      <td>0</td>\n",
              "      <td>0</td>\n",
              "      <td>0</td>\n",
              "      <td>0</td>\n",
              "      <td>0</td>\n",
              "      <td>0</td>\n",
              "      <td>0</td>\n",
              "    </tr>\n",
              "    <tr>\n",
              "      <th>2</th>\n",
              "      <td>0.671233</td>\n",
              "      <td>0.118021</td>\n",
              "      <td>0.600000</td>\n",
              "      <td>0.0</td>\n",
              "      <td>1.000000</td>\n",
              "      <td>0.397959</td>\n",
              "      <td>0</td>\n",
              "      <td>0</td>\n",
              "      <td>0</td>\n",
              "      <td>0</td>\n",
              "      <td>...</td>\n",
              "      <td>0</td>\n",
              "      <td>0</td>\n",
              "      <td>0</td>\n",
              "      <td>0</td>\n",
              "      <td>0</td>\n",
              "      <td>0</td>\n",
              "      <td>0</td>\n",
              "      <td>0</td>\n",
              "      <td>0</td>\n",
              "      <td>0</td>\n",
              "    </tr>\n",
              "    <tr>\n",
              "      <th>3</th>\n",
              "      <td>0.506849</td>\n",
              "      <td>0.086982</td>\n",
              "      <td>0.200000</td>\n",
              "      <td>0.0</td>\n",
              "      <td>0.895317</td>\n",
              "      <td>0.397959</td>\n",
              "      <td>0</td>\n",
              "      <td>0</td>\n",
              "      <td>0</td>\n",
              "      <td>0</td>\n",
              "      <td>...</td>\n",
              "      <td>0</td>\n",
              "      <td>0</td>\n",
              "      <td>0</td>\n",
              "      <td>0</td>\n",
              "      <td>0</td>\n",
              "      <td>0</td>\n",
              "      <td>0</td>\n",
              "      <td>0</td>\n",
              "      <td>0</td>\n",
              "      <td>0</td>\n",
              "    </tr>\n",
              "    <tr>\n",
              "      <th>4</th>\n",
              "      <td>0.328767</td>\n",
              "      <td>0.171404</td>\n",
              "      <td>0.600000</td>\n",
              "      <td>0.0</td>\n",
              "      <td>0.895317</td>\n",
              "      <td>0.397959</td>\n",
              "      <td>0</td>\n",
              "      <td>0</td>\n",
              "      <td>0</td>\n",
              "      <td>0</td>\n",
              "      <td>...</td>\n",
              "      <td>0</td>\n",
              "      <td>0</td>\n",
              "      <td>0</td>\n",
              "      <td>0</td>\n",
              "      <td>0</td>\n",
              "      <td>0</td>\n",
              "      <td>0</td>\n",
              "      <td>0</td>\n",
              "      <td>0</td>\n",
              "      <td>0</td>\n",
              "    </tr>\n",
              "  </tbody>\n",
              "</table>\n",
              "<p>5 rows × 98 columns</p>\n",
              "</div>"
            ],
            "text/plain": [
              "        age    fnlwgt  education.num  capital.gain  capital.loss  \\\n",
              "0  1.000000  0.043987       0.533333           0.0      1.000000   \n",
              "1  0.890411  0.081896       0.533333           0.0      1.000000   \n",
              "2  0.671233  0.118021       0.600000           0.0      1.000000   \n",
              "3  0.506849  0.086982       0.200000           0.0      0.895317   \n",
              "4  0.328767  0.171404       0.600000           0.0      0.895317   \n",
              "\n",
              "   hours.per.week  income  workclass_0.14285714285714285  \\\n",
              "0        0.397959       0                              0   \n",
              "1        0.173469       0                              0   \n",
              "2        0.397959       0                              0   \n",
              "3        0.397959       0                              0   \n",
              "4        0.397959       0                              0   \n",
              "\n",
              "   workclass_0.2857142857142857  workclass_0.42857142857142855  \\\n",
              "0                             0                              0   \n",
              "1                             0                              0   \n",
              "2                             0                              0   \n",
              "3                             0                              0   \n",
              "4                             0                              0   \n",
              "\n",
              "          ...          native.country_0.775  native.country_0.8  \\\n",
              "0         ...                             0                   0   \n",
              "1         ...                             0                   0   \n",
              "2         ...                             0                   0   \n",
              "3         ...                             0                   0   \n",
              "4         ...                             0                   0   \n",
              "\n",
              "   native.country_0.8250000000000001  native.country_0.8500000000000001  \\\n",
              "0                                  0                                  0   \n",
              "1                                  0                                  0   \n",
              "2                                  0                                  0   \n",
              "3                                  0                                  0   \n",
              "4                                  0                                  0   \n",
              "\n",
              "   native.country_0.875  native.country_0.9  native.country_0.925  \\\n",
              "0                     0                   0                     0   \n",
              "1                     0                   0                     0   \n",
              "2                     0                   0                     0   \n",
              "3                     0                   0                     0   \n",
              "4                     0                   0                     0   \n",
              "\n",
              "   native.country_0.9500000000000001  native.country_0.9750000000000001  \\\n",
              "0                                  0                                  0   \n",
              "1                                  0                                  0   \n",
              "2                                  0                                  0   \n",
              "3                                  0                                  0   \n",
              "4                                  0                                  0   \n",
              "\n",
              "   native.country_1.0  \n",
              "0                   0  \n",
              "1                   0  \n",
              "2                   0  \n",
              "3                   0  \n",
              "4                   0  \n",
              "\n",
              "[5 rows x 98 columns]"
            ]
          },
          "metadata": {
            "tags": []
          },
          "execution_count": 23
        }
      ]
    },
    {
      "metadata": {
        "id": "akLvKo8A4j3Y",
        "colab_type": "text"
      },
      "cell_type": "markdown",
      "source": [
        "# Model Selection with Dummy Variables"
      ]
    },
    {
      "metadata": {
        "id": "hVh4sES48P9Z",
        "colab_type": "code",
        "colab": {}
      },
      "cell_type": "code",
      "source": [
        "from sklearn.model_selection import train_test_split\n",
        "yv2 = df_v2[\"income\"]\n",
        "xv2 = df_v2.drop(\"income\", axis=1)\n",
        "xv2_train, xv2_test, yv2_train, yv2_test = train_test_split(xv2, yv2, test_size=0.2, random_state=1)\n"
      ],
      "execution_count": 0,
      "outputs": []
    },
    {
      "metadata": {
        "id": "XeLMwVl051zL",
        "colab_type": "text"
      },
      "cell_type": "markdown",
      "source": [
        "## KNN"
      ]
    },
    {
      "metadata": {
        "id": "O1LeZjxc8rk5",
        "colab_type": "code",
        "outputId": "0ab9d8d1-12d3-4195-b77f-c9a57168d343",
        "colab": {
          "base_uri": "https://localhost:8080/",
          "height": 151
        }
      },
      "cell_type": "code",
      "source": [
        "from sklearn.neighbors import KNeighborsClassifier\n",
        "from sklearn.model_selection import GridSearchCV\n",
        "from sklearn.model_selection import train_test_split\n",
        "param_grid = {'n_neighbors': list(range(1,28)) }#list(range(10,35))}\n",
        "#Initial Try with desicion trees\n",
        "classifier = KNeighborsClassifier()\n",
        "\n",
        "gd_sr = GridSearchCV(estimator=classifier,  \n",
        "                     param_grid=param_grid,\n",
        "                     scoring='accuracy',\n",
        "                     cv=3)\n",
        "gd_sr.fit(xv2_train, yv2_train) "
      ],
      "execution_count": 0,
      "outputs": [
        {
          "output_type": "execute_result",
          "data": {
            "text/plain": [
              "GridSearchCV(cv=3, error_score='raise-deprecating',\n",
              "       estimator=KNeighborsClassifier(algorithm='auto', leaf_size=30, metric='minkowski',\n",
              "           metric_params=None, n_jobs=None, n_neighbors=5, p=2,\n",
              "           weights='uniform'),\n",
              "       fit_params=None, iid='warn', n_jobs=None,\n",
              "       param_grid={'n_neighbors': [1, 2, 3, 4, 5, 6, 7, 8, 9, 10, 11, 12, 13, 14, 15, 16, 17, 18, 19, 20, 21, 22, 23, 24, 25, 26, 27]},\n",
              "       pre_dispatch='2*n_jobs', refit=True, return_train_score='warn',\n",
              "       scoring='accuracy', verbose=0)"
            ]
          },
          "metadata": {
            "tags": []
          },
          "execution_count": 8
        }
      ]
    },
    {
      "metadata": {
        "id": "8NHhNTSOGWls",
        "colab_type": "code",
        "outputId": "535621e8-7b56-4f47-9d7b-82e636064f6d",
        "colab": {
          "base_uri": "https://localhost:8080/",
          "height": 34
        }
      },
      "cell_type": "code",
      "source": [
        "print(\"Neighbors: %d\\tScore: %.2f\"%(gd_sr.best_params_['n_neighbors'],gd_sr.best_score_))"
      ],
      "execution_count": 0,
      "outputs": [
        {
          "output_type": "stream",
          "text": [
            "Neighbors: 24\tScore: 0.83\n"
          ],
          "name": "stdout"
        }
      ]
    },
    {
      "metadata": {
        "id": "ySwpMKp_tVao",
        "colab_type": "code",
        "outputId": "712f71b7-a86a-4aa2-beb5-5de9cbde28da",
        "colab": {
          "base_uri": "https://localhost:8080/",
          "height": 34
        }
      },
      "cell_type": "code",
      "source": [
        "from sklearn.neighbors import KNeighborsClassifier\n",
        "from sklearn.metrics import accuracy_score\n",
        "param_grid = {'n_neighbors': list(range(1,28)) }#list(range(10,35))}\n",
        "#Initial Try with desicion trees\n",
        "classifier = KNeighborsClassifier(n_neighbors=24)\n",
        "classifier.fit(xv2_train, yv2_train)  \n",
        "y_pred = classifier.predict(xv2_test)\n",
        "print(\"Accuracy: %.3f\"%accuracy_score(y_test,y_pred))"
      ],
      "execution_count": 0,
      "outputs": [
        {
          "output_type": "stream",
          "text": [
            "Accuracy: 0.837\n"
          ],
          "name": "stdout"
        }
      ]
    },
    {
      "metadata": {
        "id": "A9REeFJY59Ok",
        "colab_type": "text"
      },
      "cell_type": "markdown",
      "source": [
        "## SVM"
      ]
    },
    {
      "metadata": {
        "id": "-AkJdoHuSfdp",
        "colab_type": "text"
      },
      "cell_type": "markdown",
      "source": [
        "Here I changed the parameters of the SVM since it take around 9 hours to check the results with grid search. Hence, there might be a better model that I could not able to see."
      ]
    },
    {
      "metadata": {
        "id": "jGWDReq2CqLf",
        "colab_type": "code",
        "outputId": "b674cd0b-549a-4dba-8bb6-fa2564f14747",
        "colab": {
          "base_uri": "https://localhost:8080/",
          "height": 34
        }
      },
      "cell_type": "code",
      "source": [
        "from sklearn.model_selection import GridSearchCV  \n",
        "from sklearn.svm import SVC\n",
        "from sklearn.model_selection import train_test_split\n",
        "classifier = SVC()\n",
        "param_grid = {'C': [ 0.01, 0.1, 1], 'gamma' : [ 0.01, 0.1, 1]}\n",
        "grid_search = GridSearchCV(classifier, param_grid, cv=3)\n",
        "grid_search.fit(xv2_train, yv2_train) \n",
        "grid_search.best_params_"
      ],
      "execution_count": 0,
      "outputs": [
        {
          "output_type": "execute_result",
          "data": {
            "text/plain": [
              "{'C': 1, 'gamma': 0.1}"
            ]
          },
          "metadata": {
            "tags": []
          },
          "execution_count": 40
        }
      ]
    },
    {
      "metadata": {
        "id": "LvvxdIuhAVQi",
        "colab_type": "code",
        "outputId": "2d8b1931-70a4-4d3b-8139-d22ea2c2875a",
        "colab": {
          "base_uri": "https://localhost:8080/",
          "height": 34
        }
      },
      "cell_type": "code",
      "source": [
        "from sklearn.metrics import accuracy_score\n",
        "from sklearn.svm import SVC\n",
        "classifier=SVC(C= 1, gamma= 0.1)\n",
        "classifier.fit(x_train, y_train)  \n",
        "y_pred = classifier.predict(x_test)\n",
        "print(\"Accuracy: %.3f\"%accuracy_score(y_test,y_pred))"
      ],
      "execution_count": 0,
      "outputs": [
        {
          "output_type": "stream",
          "text": [
            "Accuracy: 0.829\n"
          ],
          "name": "stdout"
        }
      ]
    },
    {
      "metadata": {
        "id": "A8PDExhs6AAd",
        "colab_type": "text"
      },
      "cell_type": "markdown",
      "source": [
        "## Logistic Regression"
      ]
    },
    {
      "metadata": {
        "id": "HgT59mUZ6G0q",
        "colab_type": "code",
        "outputId": "366d90fa-1de4-4d87-fd4d-a0d7fbe731c4",
        "colab": {
          "base_uri": "https://localhost:8080/",
          "height": 34
        }
      },
      "cell_type": "code",
      "source": [
        "from sklearn.model_selection import GridSearchCV  \n",
        "from sklearn.linear_model import LogisticRegression\n",
        "from sklearn.model_selection import train_test_split\n",
        "param_grid={\"C\":np.logspace(-3,3,7), \"penalty\":[\"l1\",\"l2\"]}# l1 lasso l2 ridge\n",
        "classifier=LogisticRegression(solver='liblinear')\n",
        "grid_search=GridSearchCV(classifier,param_grid,cv=3)\n",
        "grid_search.fit(xv2_train,yv2_train)\n",
        "grid_search.best_params_"
      ],
      "execution_count": 0,
      "outputs": [
        {
          "output_type": "execute_result",
          "data": {
            "text/plain": [
              "{'C': 10.0, 'penalty': 'l2'}"
            ]
          },
          "metadata": {
            "tags": []
          },
          "execution_count": 31
        }
      ]
    },
    {
      "metadata": {
        "id": "nmf9ewLGaGLV",
        "colab_type": "code",
        "outputId": "9e8989d2-8ce3-4fec-9428-35d3d0041680",
        "colab": {
          "base_uri": "https://localhost:8080/",
          "height": 34
        }
      },
      "cell_type": "code",
      "source": [
        "from sklearn.metrics import accuracy_score\n",
        "from sklearn.linear_model import LogisticRegression\n",
        "classifier = LogisticRegression(solver='liblinear',C=10,penalty='l2')\n",
        "classifier.fit(x_train, y_train)  \n",
        "y_pred = classifier.predict(x_test)\n",
        "print(\"Accuracy: %.3f\"%accuracy_score(y_test,y_pred))"
      ],
      "execution_count": 0,
      "outputs": [
        {
          "output_type": "stream",
          "text": [
            "Accuracy: 0.845\n"
          ],
          "name": "stdout"
        }
      ]
    },
    {
      "metadata": {
        "id": "C0dj9Ow56Vh6",
        "colab_type": "text"
      },
      "cell_type": "markdown",
      "source": [
        "## Decision Tree"
      ]
    },
    {
      "metadata": {
        "id": "iM29hPVZ6bre",
        "colab_type": "code",
        "colab": {}
      },
      "cell_type": "code",
      "source": [
        "depths = np.arange(1, 21)\n",
        "num_leafs = [1, 5, 10, 20, 50, 100]\n",
        "param_grid =  [{'max_depth':depths,\n",
        "              'min_samples_leaf':num_leafs}]"
      ],
      "execution_count": 0,
      "outputs": []
    },
    {
      "metadata": {
        "id": "We_BdnD26jLX",
        "colab_type": "code",
        "outputId": "18212e70-950d-45a7-9469-3f00ee7276c4",
        "colab": {
          "base_uri": "https://localhost:8080/",
          "height": 34
        }
      },
      "cell_type": "code",
      "source": [
        "from sklearn.model_selection import GridSearchCV  \n",
        "from sklearn.tree import DecisionTreeClassifier\n",
        "from sklearn.model_selection import train_test_split\n",
        "classifier=DecisionTreeClassifier()\n",
        "grid_search=GridSearchCV(classifier,param_grid,cv=3)\n",
        "grid_search.fit(xv2_train,yv2_train)\n",
        "grid_search.best_params_"
      ],
      "execution_count": 0,
      "outputs": [
        {
          "output_type": "execute_result",
          "data": {
            "text/plain": [
              "{'max_depth': 8, 'min_samples_leaf': 20}"
            ]
          },
          "metadata": {
            "tags": []
          },
          "execution_count": 34
        }
      ]
    },
    {
      "metadata": {
        "id": "UneeSSzPajCr",
        "colab_type": "code",
        "outputId": "38a60a6a-c4f8-42ce-c411-2008a2c765f5",
        "colab": {
          "base_uri": "https://localhost:8080/",
          "height": 34
        }
      },
      "cell_type": "code",
      "source": [
        "from sklearn.metrics import accuracy_score\n",
        "from sklearn.tree import DecisionTreeClassifier\n",
        "classifier = DecisionTreeClassifier(max_depth=8,min_samples_leaf=20)\n",
        "classifier.fit(xv2_train, yv2_train)  \n",
        "y_pred = classifier.predict(xv2_test)\n",
        "print(\"Accuracy: %.3f\"%accuracy_score(y_test,y_pred))"
      ],
      "execution_count": 0,
      "outputs": [
        {
          "output_type": "stream",
          "text": [
            "Accuracy: 0.860\n"
          ],
          "name": "stdout"
        }
      ]
    },
    {
      "metadata": {
        "id": "rI07qi-aav63",
        "colab_type": "text"
      },
      "cell_type": "markdown",
      "source": [
        "# Conclusion"
      ]
    },
    {
      "metadata": {
        "id": "eGaj9mMZSyLf",
        "colab_type": "text"
      },
      "cell_type": "markdown",
      "source": [
        "In this dataset, there are many categorical values and some missing values to deal with. Hence, the preprocessing stage is critical for this dataset. I mainly used two different approach to handle categorical data. Firstly, I mapped the values for each categorical variable to numerical values between zero to number of unique elements -1. Even though it affects the performance of the models negatively, it was helpful to try feature elimination or selection process. Secondly, I get dummy variables for the each categorical data column and implemented the same models that I used in this dataset.\n",
        "\n",
        "I used SVM, Decision Tree, Logistic Regression and KNN and used both grid search and based on the results of grid search I train the model and calculate the \"Accuracy\" with the test data where the ration for train-test is 80-20 percent. After this processes, I selected the  Decision Tree model with parameter max_depth=8 and min_sample_leaf=20 which gave me 86% accuracy.\n",
        "\n",
        "As a future work, further statistical analysis can be done to understand the relations between each variable to costruct a better model.\n",
        "\n",
        "All in all, in this dataset, I have learned that the importance of the exploration of the dataset to extract features, i.e. meaningful features that can represent data properly in the learning models. Furthermore, I had a chance to explore the problems faced with complex data (I mean composition of discrete and continous data) and their advantages and drawbacks in terms of accuracy, computation resources and time consumed."
      ]
    }
  ]
}